{
  "nbformat": 4,
  "nbformat_minor": 0,
  "metadata": {
    "colab": {
      "provenance": []
    },
    "kernelspec": {
      "name": "python3",
      "display_name": "Python 3"
    },
    "language_info": {
      "name": "python"
    }
  },
  "cells": [
    {
      "cell_type": "markdown",
      "source": [
        "1. What is a RESTful API?\n",
        "  - A RESTful API is an interface that follows REST principles, allowing systems to communicate over HTTP using standard methods like GET, POST, PUT, and DELETE.\n",
        "\n",
        "2. Explain the concept of API specification.\n",
        "  - An API specification defines how APIs behave — including endpoints, request methods, parameters, and responses — helping developers understand and use the API properly.\n",
        "\n",
        "3. What is Flask, and why is it popular for building APIs?\n",
        "  - Flask is a lightweight Python web framework that's simple and flexible, making it ideal for quickly building web APIs and applications.\n",
        "\n",
        "4. What is routing in Flask?\n",
        "  - Routing in Flask maps URLs to functions. When a user visits a URL, Flask calls the corresponding function (called a view function).\n",
        "\n",
        "5. How do you create a simple Flask application?\n",
        "  - You create a Flask app by importing Flask, creating an app instance, defining a route with @app.route(), and then running the app using app.run().\n",
        "\n",
        "6. What are HTTP methods used in RESTful APIs?\n",
        "  - The common methods are GET (retrieve), POST (create), PUT (update), PATCH (partial update), and DELETE (remove data).\n",
        "\n",
        "7. What is the purpose of the @app.route() decorator in Flask?\n",
        "  - It defines the URL route for a specific function, allowing Flask to call that function when the route is accessed.\n",
        "\n",
        "8. What is the difference between GET and POST HTTP methods?\n",
        "  - GET is used to fetch data from the server, while POST is used to send new data to the server to create a resource.\n",
        "\n",
        "9. How do you handle errors in Flask APIs?\n",
        "  - You can use @app.errorhandler() to define custom error messages for different HTTP status codes like 404 or 500.\n",
        "\n",
        "10. How do you connect Flask to a SQL database?\n",
        "  - You use extensions like Flask-SQLAlchemy to connect, define models, and interact with the database using Python classes.\n",
        "\n",
        "11. What is the role of Flask-SQLAlchemy?\n",
        "  - Flask-SQLAlchemy provides ORM support, allowing you to work with SQL databases using Python objects instead of writing raw SQL queries.\n",
        "\n",
        "12. What are Flask blueprints, and how are they useful?\n",
        "  - Blueprints let you organize your app into smaller components or modules, making the project more manageable and scalable.\n",
        "\n",
        "13. What is the purpose of Flask’s request object?\n",
        "  - The request object gives you access to incoming request data like form values, headers, JSON payloads, and more.\n",
        "\n",
        "14. How do you create a RESTful API endpoint using Flask?\n",
        "  - You define a route using @app.route() with the appropriate method (e.g., POST), and then handle logic inside the function to process the request and return a response.\n",
        "\n",
        "15. What is the purpose of Flask’s jsonify() function?\n",
        "  - jsonify() converts Python dictionaries into JSON responses, making it easy to return structured data from your API.\n",
        "\n",
        "16. Explain Flask’s url_for() function.\n",
        "  - url_for() dynamically generates URLs for routes using the function name, helping you avoid hardcoding paths.\n",
        "\n",
        "17. How does Flask handle static files (CSS, JavaScript, etc.)?\n",
        "  - Flask serves static files from the static/ folder automatically. You can access them using the /static/ path in your HTML.\n",
        "\n",
        "18. What is an API specification, and how does it help in building a Flask API?\n",
        "  - It defines the structure and rules of the API, ensuring consistency and helping both backend and frontend developers work in sync.\n",
        "\n",
        "19. What are HTTP status codes, and why are they important in a Flask API?\n",
        "  - They indicate the result of a request (like 200 for success or 404 for not found), helping clients understand what happened.\n",
        "\n",
        "20. How do you handle POST requests in Flask?\n",
        "  - Use @app.route(..., methods=[\"POST\"]) and then access the data using request.form, request.json, or request.data.\n",
        "\n",
        "21. How would you secure a Flask API?\n",
        "  - Use techniques like input validation, authentication (tokens or OAuth), HTTPS, and limiting request rates to prevent abuse.\n",
        "\n",
        "22. What is the significance of the Flask-RESTful extension?\n",
        "  - It adds support for quickly building REST APIs with Flask by providing features like request parsing, resource classes, and automatic status codes.\n",
        "\n",
        "23. What is the role of Flask’s session object?\n",
        "  - The session object stores data across requests for a user (like login info), using secure cookies under the hood.\n",
        "\n"
      ],
      "metadata": {
        "id": "uVJDVFUskuz6"
      }
    },
    {
      "cell_type": "code",
      "source": [
        "from flask import Flask\n",
        "\n",
        "app = Flask(__name__)\n",
        "\n",
        "@app.route('/')\n",
        "def home():\n",
        "    return 'Hello, Flask!'\n",
        "\n",
        "if __name__ == '__main__':\n",
        "    app.run(debug=True)\n"
      ],
      "metadata": {
        "colab": {
          "base_uri": "https://localhost:8080/"
        },
        "id": "ip03LeGVlJvu",
        "outputId": "51f2fbf6-f904-473a-cd3e-d26a6cb8e766"
      },
      "execution_count": null,
      "outputs": [
        {
          "output_type": "stream",
          "name": "stdout",
          "text": [
            " * Serving Flask app '__main__'\n",
            " * Debug mode: on\n"
          ]
        },
        {
          "output_type": "stream",
          "name": "stderr",
          "text": [
            "INFO:werkzeug:\u001b[31m\u001b[1mWARNING: This is a development server. Do not use it in a production deployment. Use a production WSGI server instead.\u001b[0m\n",
            " * Running on http://127.0.0.1:5000\n",
            "INFO:werkzeug:\u001b[33mPress CTRL+C to quit\u001b[0m\n",
            "INFO:werkzeug: * Restarting with stat\n"
          ]
        }
      ]
    },
    {
      "cell_type": "code",
      "source": [
        "<link rel=\"stylesheet\" href=\"{{ url_for('static', filename='style.css') }}\">\n",
        "<img src=\"{{ url_for('static', filename='image.png') }}\">\n"
      ],
      "metadata": {
        "id": "jc_SZmDDlXq_"
      },
      "execution_count": null,
      "outputs": []
    },
    {
      "cell_type": "code",
      "source": [
        "@app.route('/submit', methods=['GET', 'POST'])\n",
        "def submit():\n",
        "    if request.method == 'POST':\n",
        "        return 'Posted!'\n",
        "    return 'Form page'\n"
      ],
      "metadata": {
        "id": "Fz8xk5XQlZvU"
      },
      "execution_count": null,
      "outputs": []
    },
    {
      "cell_type": "code",
      "source": [
        "from flask import render_template\n",
        "\n",
        "@app.route('/')\n",
        "def homepage():\n",
        "    return render_template('index.html')  # templates/index.html\n"
      ],
      "metadata": {
        "id": "AhmjEOYnlbDY"
      },
      "execution_count": null,
      "outputs": []
    },
    {
      "cell_type": "code",
      "source": [
        "@app.route('/dashboard')\n",
        "def dashboard():\n",
        "    return 'Dashboard Page'\n",
        "\n",
        "@app.route('/')\n",
        "def home():\n",
        "    return redirect(url_for('dashboard'))\n"
      ],
      "metadata": {
        "id": "xOMPnY27lch7"
      },
      "execution_count": null,
      "outputs": []
    },
    {
      "cell_type": "code",
      "source": [
        "#<!-- templates/form.html -->\n",
        "#<form action=\"/submit\" method=\"post\">\n",
        " # <input type=\"text\" name=\"name\">\n",
        " # <input type=\"submit\">\n",
        "#</form>\n",
        "@app.route('/submit', methods=['POST'])\n",
        "def submit():\n",
        "    name = request.form['name']\n",
        "    return f'Hello {name}'\n"
      ],
      "metadata": {
        "id": "7aVP54rTleDT"
      },
      "execution_count": null,
      "outputs": []
    },
    {
      "cell_type": "code",
      "source": [
        "@app.route('/submit', methods=['POST'])\n",
        "def submit():\n",
        "    name = request.form.get('name')\n",
        "    if not name:\n",
        "        return 'Name is required!', 400\n",
        "    return f'Hello {name}'\n"
      ],
      "metadata": {
        "id": "aAN6V8r5llg7"
      },
      "execution_count": null,
      "outputs": []
    },
    {
      "cell_type": "code",
      "source": [
        "from flask import session\n",
        "\n",
        "app.secret_key = 'your_secret_key'\n",
        "\n",
        "@app.route('/login')\n",
        "def login():\n",
        "    session['user'] = 'admin'\n",
        "    return 'Logged in'\n",
        "\n",
        "@app.route('/profile')\n",
        "def profile():\n",
        "    user = session.get('user')\n",
        "    return f'Logged in as {user}'\n"
      ],
      "metadata": {
        "id": "fFvRSv7Nlog1"
      },
      "execution_count": null,
      "outputs": []
    },
    {
      "cell_type": "code",
      "source": [
        "from flask import redirect\n",
        "\n",
        "@app.route('/')\n",
        "def home():\n",
        "    return redirect('/dashboard')\n",
        "\n",
        "@app.route('/dashboard')\n",
        "def dashboard():\n",
        "    return 'Welcome to dashboard'\n"
      ],
      "metadata": {
        "id": "_3J2T5tflpvv"
      },
      "execution_count": null,
      "outputs": []
    },
    {
      "cell_type": "code",
      "source": [
        "@app.errorhandler(404)\n",
        "def not_found(e):\n",
        "    return 'Page not found!', 404\n"
      ],
      "metadata": {
        "id": "a3ZUO_7Alq4r"
      },
      "execution_count": null,
      "outputs": []
    },
    {
      "cell_type": "code",
      "source": [
        "from flask import Blueprint\n",
        "\n",
        "example = Blueprint('example', __name__)\n",
        "\n",
        "@example.route('/hello')\n",
        "def hello():\n",
        "    return 'Hello from blueprint!'\n",
        "\n",
        "\n",
        "from flask import Flask\n",
        "from blueprint_example import example\n",
        "\n",
        "app = Flask(__name__)\n",
        "app.register_blueprint(example)\n",
        "\n",
        "if __name__ == '__main__':\n",
        "    app.run()\n",
        "\n"
      ],
      "metadata": {
        "id": "a7l_-Dn8ls87"
      },
      "execution_count": null,
      "outputs": []
    },
    {
      "cell_type": "code",
      "source": [
        "@app.template_filter('reverse')\n",
        "def reverse_filter(s):\n",
        "    return s[::-1]\n",
        "\n",
        "# In template: {{ 'hello'|reverse }} → \"olleh\"\n"
      ],
      "metadata": {
        "id": "wh5XuVPxlyQP"
      },
      "execution_count": null,
      "outputs": []
    },
    {
      "cell_type": "code",
      "source": [
        "@app.route('/')\n",
        "def home():\n",
        "    return redirect(url_for('greet', name='Om'))\n",
        "\n",
        "@app.route('/greet')\n",
        "def greet():\n",
        "    name = request.args.get('name')\n",
        "    return f'Hello, {name}'\n"
      ],
      "metadata": {
        "id": "bqqL_O6OluuE"
      },
      "execution_count": null,
      "outputs": []
    },
    {
      "cell_type": "code",
      "source": [
        "from flask import jsonify\n",
        "\n",
        "@app.route('/api/data')\n",
        "def data():\n",
        "    return jsonify({\"name\": \"Om\", \"age\": 21})\n"
      ],
      "metadata": {
        "id": "2LETRN8pl0w6"
      },
      "execution_count": null,
      "outputs": []
    },
    {
      "cell_type": "code",
      "source": [
        "@app.route('/user/<username>')\n",
        "def profile(username):\n",
        "    return f'Profile page of {username}'\n"
      ],
      "metadata": {
        "id": "_dzQoLeMl15S"
      },
      "execution_count": null,
      "outputs": []
    }
  ]
}