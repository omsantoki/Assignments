{
  "nbformat": 4,
  "nbformat_minor": 0,
  "metadata": {
    "colab": {
      "provenance": []
    },
    "kernelspec": {
      "name": "python3",
      "display_name": "Python 3"
    },
    "language_info": {
      "name": "python"
    }
  },
  "cells": [
    {
      "cell_type": "code",
      "execution_count": null,
      "metadata": {
        "id": "V2TazbJXooqC"
      },
      "outputs": [],
      "source": []
    },
    {
      "cell_type": "markdown",
      "source": [
        "1. What are data structures, and why are they important?\n",
        "    - Data structures help store and organize data so it can be accessed and worked with efficiently. They’re essential for solving problems quickly and managing data effectively.\n",
        "2. Difference between mutable and immutable data types:\n",
        "  - Mutable: Can be changed (e.g., list, dict, set)\n",
        "  - Immutable: Can’t be changed (e.g., str, int, tuple)\n",
        "3. Main differences between lists and tuples:\n",
        "  - Lists are mutable\n",
        "  - Tuples are immutable\n",
        "  - Use tuples when data shouldn’t change.\n",
        "4. How dictionaries store data:\n",
        "  - Dictionaries store data in key-value pairs using a hash table, which allows fast access to values by key.\n",
        "5. Why use a set instead of a list?\n",
        "  - Use a set when you need only unique values and want faster lookup. Sets automatically remove duplicates.\n",
        "6. What is a string, and how is it different from a list?\n",
        "  - A string is a sequence of characters and is immutable. A list can store any data type and is mutable.\n",
        "7. How do tuples ensure data integrity?\n",
        "  - Since tuples can't be changed, they keep data safe from accidental updates, making them ideal for fixed data\n",
        "8. What is a hash table and how is it related to dictionaries?\n",
        "  - A hash table stores data using a hashed key. Python dictionaries use this to give fast key-based access to values.\n",
        "9. Can lists contain different data types?\n",
        "  - Yes! Python lists can store mixed data like [\"hello\", 10, True].\n",
        "10. Why are strings immutable?\n",
        "  - Strings can’t be changed to make them more secure, memory-efficient, and safe to use as dictionary keys.\n",
        "11. Advantages of dictionaries over lists:\n",
        "  - Dictionaries are better for quick lookup by key, while lists are better for ordered data accessed by index.\n",
        "\n",
        "12. When to use a tuple over a list:\n",
        "  - Use a tuple when the data shouldn't change, like dates, coordinates, or configs.\n",
        "\n",
        "13. How do sets handle duplicate values?\n",
        "  - Sets automatically remove duplicates. If you add a duplicate, it’ll only keep one copy.\n",
        "\n",
        "14. How does the “in” keyword work differently for lists and dictionaries?\n",
        "  - In a list, it checks values.\n",
        "    In a dictionary, it checks keys.\n",
        "15. Can you modify elements of a tuple?\n",
        "  - No. Tuples are immutable, so once created, you can’t change any of their values.\n",
        "\n",
        "16. What is a nested dictionary and its use case?\n",
        "  - A nested dictionary is a dict inside another dict.\n",
        "17. Time complexity of accessing elements in a dictionary:\n",
        "  - O(1) on average, thanks to hashing — very fast!\n",
        "\n",
        "18. When are lists preferred over dictionaries?\n",
        "  - When you need ordered data, access by position, or store duplicate values, lists are better.\n",
        "\n",
        "19. Why are dictionaries considered unordered?\n",
        "  - Earlier Python versions didn't preserve order. Now they do (from Python 3.7+), but dictionaries still rely on key-based access, not position.\n",
        "\n",
        "20. Difference between a list and a dictionary in data retrieval:\n",
        "  - List: Access data by index.\n",
        "  - Dict: Access data by key — much faster for lookup.\n",
        "\n",
        "  \n",
        "\n",
        "\n"
      ],
      "metadata": {
        "id": "XBxJHrpRope_"
      }
    },
    {
      "cell_type": "code",
      "source": [
        "#Create a string with your name and print it\n",
        "name = \"Om Santoki\"\n",
        "print(name)\n"
      ],
      "metadata": {
        "colab": {
          "base_uri": "https://localhost:8080/"
        },
        "id": "G5v4YkH7rBt2",
        "outputId": "1cc3212f-2d8f-4b5a-cbd6-a1d2341f7c00"
      },
      "execution_count": null,
      "outputs": [
        {
          "output_type": "stream",
          "name": "stdout",
          "text": [
            "Om Santoki\n"
          ]
        }
      ]
    },
    {
      "cell_type": "code",
      "source": [
        "#Find the length of the string \"Hello World\"\n",
        "text = \"Hello World\"\n",
        "print(len(text))\n"
      ],
      "metadata": {
        "colab": {
          "base_uri": "https://localhost:8080/"
        },
        "id": "H0Gj9B7xrHye",
        "outputId": "069644b7-c36b-44e3-b741-2083758c23eb"
      },
      "execution_count": null,
      "outputs": [
        {
          "output_type": "stream",
          "name": "stdout",
          "text": [
            "11\n"
          ]
        }
      ]
    },
    {
      "cell_type": "code",
      "source": [
        "#Slice the first 3 characters from the string \"Python Programming\"\n",
        "text = \"Python Programming\"\n",
        "print(text[:3])\n"
      ],
      "metadata": {
        "colab": {
          "base_uri": "https://localhost:8080/"
        },
        "id": "b2SPy6i6rL8V",
        "outputId": "90c3a0a7-22c8-46f5-fc9d-0034a0f68579"
      },
      "execution_count": null,
      "outputs": [
        {
          "output_type": "stream",
          "name": "stdout",
          "text": [
            "Pyt\n"
          ]
        }
      ]
    },
    {
      "cell_type": "code",
      "source": [
        "#Convert the string \"hello\" to uppercase\n",
        "word = \"hello\"\n",
        "print(word.upper())\n"
      ],
      "metadata": {
        "colab": {
          "base_uri": "https://localhost:8080/"
        },
        "id": "DolgpBoqrN3K",
        "outputId": "115da9e1-75c7-4775-a4fc-c3172a5eb336"
      },
      "execution_count": null,
      "outputs": [
        {
          "output_type": "stream",
          "name": "stdout",
          "text": [
            "HELLO\n"
          ]
        }
      ]
    },
    {
      "cell_type": "code",
      "source": [
        "#Replace \"apple\" with \"orange\" in the string \"I like apple\"\n",
        "sentence = \"I like apple\"\n",
        "print(sentence.replace(\"apple\", \"orange\"))\n"
      ],
      "metadata": {
        "colab": {
          "base_uri": "https://localhost:8080/"
        },
        "id": "yjjHVpg_rVRO",
        "outputId": "1c96d665-b178-4a83-a33e-d5aceb8956da"
      },
      "execution_count": null,
      "outputs": [
        {
          "output_type": "stream",
          "name": "stdout",
          "text": [
            "I like orange\n"
          ]
        }
      ]
    },
    {
      "cell_type": "code",
      "source": [
        "#Create a list with numbers 1 to 5 and print it\n",
        "numbers = [1, 2, 3, 4, 5]\n",
        "print(numbers)\n"
      ],
      "metadata": {
        "id": "9n_u7-u-rZYU",
        "outputId": "35a5231c-af5b-4c65-812f-1e7ab51c45e7",
        "colab": {
          "base_uri": "https://localhost:8080/"
        }
      },
      "execution_count": null,
      "outputs": [
        {
          "output_type": "stream",
          "name": "stdout",
          "text": [
            "[1, 2, 3, 4, 5]\n"
          ]
        }
      ]
    },
    {
      "cell_type": "code",
      "source": [
        "#Append the number 10 to the list [1, 2, 3, 4]\n",
        "nums = [1, 2, 3, 4]\n",
        "nums.append(10)\n",
        "print(nums)\n"
      ],
      "metadata": {
        "id": "uSwc_Y4Brcqy",
        "outputId": "67e34569-a97c-4ac6-ac21-bd3dd66d8a20",
        "colab": {
          "base_uri": "https://localhost:8080/"
        }
      },
      "execution_count": null,
      "outputs": [
        {
          "output_type": "stream",
          "name": "stdout",
          "text": [
            "[1, 2, 3, 4, 10]\n"
          ]
        }
      ]
    },
    {
      "cell_type": "code",
      "source": [
        "#Remove the number 3 from the list [1, 2, 3, 4, 5]\n",
        "nums = [1, 2, 3, 4, 5]\n",
        "nums.remove(3)\n",
        "print(nums)\n"
      ],
      "metadata": {
        "id": "TVNAIxy_rfdE",
        "colab": {
          "base_uri": "https://localhost:8080/"
        },
        "outputId": "b4f78ec1-78a2-4039-a9b2-79fb39dbf4de"
      },
      "execution_count": 9,
      "outputs": [
        {
          "output_type": "stream",
          "name": "stdout",
          "text": [
            "[1, 2, 4, 5]\n"
          ]
        }
      ]
    },
    {
      "cell_type": "code",
      "source": [
        "#Access the second element in the list ['a', 'b', 'c', 'd']\n",
        "letters = ['a', 'b', 'c', 'd']\n",
        "print(letters[1])\n"
      ],
      "metadata": {
        "colab": {
          "base_uri": "https://localhost:8080/"
        },
        "id": "flXAE2nYr4yz",
        "outputId": "494d8055-cda9-4603-c1b3-180630250f92"
      },
      "execution_count": 10,
      "outputs": [
        {
          "output_type": "stream",
          "name": "stdout",
          "text": [
            "b\n"
          ]
        }
      ]
    },
    {
      "cell_type": "code",
      "source": [
        "#Reverse the list [10, 20, 30, 40, 50]\n",
        "nums = [10, 20, 30, 40, 50]\n",
        "nums.reverse()\n",
        "print(nums)\n"
      ],
      "metadata": {
        "colab": {
          "base_uri": "https://localhost:8080/"
        },
        "id": "yF2gi9W9r7uh",
        "outputId": "9aeec07f-f87e-4f16-b981-3592c2797fc2"
      },
      "execution_count": 11,
      "outputs": [
        {
          "output_type": "stream",
          "name": "stdout",
          "text": [
            "[50, 40, 30, 20, 10]\n"
          ]
        }
      ]
    },
    {
      "cell_type": "code",
      "source": [
        "#Create a tuple with 100, 200, 300 and print it\n",
        "t = (100, 200, 300)\n",
        "print(t)\n"
      ],
      "metadata": {
        "colab": {
          "base_uri": "https://localhost:8080/"
        },
        "id": "7UqK4ckIsELV",
        "outputId": "104ac61b-1405-429c-9649-eeb9c26b8eeb"
      },
      "execution_count": 12,
      "outputs": [
        {
          "output_type": "stream",
          "name": "stdout",
          "text": [
            "(100, 200, 300)\n"
          ]
        }
      ]
    },
    {
      "cell_type": "code",
      "source": [
        "#Access the second-to-last element of the tuple ('red', 'green', 'blue', 'yellow')\n",
        "colors = ('red', 'green', 'blue', 'yellow')\n",
        "print(colors[-2])\n"
      ],
      "metadata": {
        "colab": {
          "base_uri": "https://localhost:8080/"
        },
        "id": "7L7_mtdRsF8s",
        "outputId": "fe48f4f6-7242-46e1-dcd7-a4ee3c64d4c6"
      },
      "execution_count": 13,
      "outputs": [
        {
          "output_type": "stream",
          "name": "stdout",
          "text": [
            "blue\n"
          ]
        }
      ]
    },
    {
      "cell_type": "code",
      "source": [
        "#Find the minimum number in the tuple (10, 20, 5, 15)\n",
        "nums = (10, 20, 5, 15)\n",
        "print(min(nums))\n"
      ],
      "metadata": {
        "colab": {
          "base_uri": "https://localhost:8080/"
        },
        "id": "34n8w0jtsJZj",
        "outputId": "33eb0330-ecd1-470a-cbdb-a3daa706fb8c"
      },
      "execution_count": 14,
      "outputs": [
        {
          "output_type": "stream",
          "name": "stdout",
          "text": [
            "5\n"
          ]
        }
      ]
    },
    {
      "cell_type": "code",
      "source": [
        "#Find the index of \"cat\" in the tuple ('dog', 'cat', 'rabbit')\n",
        "animals = ('dog', 'cat', 'rabbit')\n",
        "print(animals.index(\"cat\"))\n"
      ],
      "metadata": {
        "colab": {
          "base_uri": "https://localhost:8080/"
        },
        "id": "KEFvomL2sOkj",
        "outputId": "61b9da5a-e65a-4017-d7e9-183776a08eef"
      },
      "execution_count": 15,
      "outputs": [
        {
          "output_type": "stream",
          "name": "stdout",
          "text": [
            "1\n"
          ]
        }
      ]
    },
    {
      "cell_type": "code",
      "source": [
        "#Create a fruit tuple and check if \"kiwi\" is in it\n",
        "fruits = (\"apple\", \"banana\", \"mango\")\n",
        "print(\"kiwi\" in fruits)\n"
      ],
      "metadata": {
        "colab": {
          "base_uri": "https://localhost:8080/"
        },
        "id": "lUpbAyUnsRlq",
        "outputId": "181b1c11-a0b5-4bcc-bdc4-5164313e07e3"
      },
      "execution_count": 16,
      "outputs": [
        {
          "output_type": "stream",
          "name": "stdout",
          "text": [
            "False\n"
          ]
        }
      ]
    },
    {
      "cell_type": "code",
      "source": [
        "#Create a set with 'a', 'b', 'c' and print it\n",
        "s = {'a', 'b', 'c'}\n",
        "print(s)\n"
      ],
      "metadata": {
        "colab": {
          "base_uri": "https://localhost:8080/"
        },
        "id": "QJ7faNJGsUoN",
        "outputId": "7ca863c3-e352-46e0-e98c-d00cbd270478"
      },
      "execution_count": 17,
      "outputs": [
        {
          "output_type": "stream",
          "name": "stdout",
          "text": [
            "{'b', 'a', 'c'}\n"
          ]
        }
      ]
    },
    {
      "cell_type": "code",
      "source": [
        "#Clear all elements from the set {1, 2, 3, 4, 5}\n",
        "s = {1, 2, 3, 4, 5}\n",
        "s.clear()\n",
        "print(s)\n"
      ],
      "metadata": {
        "colab": {
          "base_uri": "https://localhost:8080/"
        },
        "id": "hseymOZ7sXl9",
        "outputId": "395159c6-7289-4c88-ad62-25e82fa052fb"
      },
      "execution_count": 18,
      "outputs": [
        {
          "output_type": "stream",
          "name": "stdout",
          "text": [
            "set()\n"
          ]
        }
      ]
    },
    {
      "cell_type": "code",
      "source": [
        "#Remove element 4 from the set {1, 2, 3, 4}\n",
        "s = {1, 2, 3, 4}\n",
        "s.remove(4)\n",
        "print(s)\n"
      ],
      "metadata": {
        "colab": {
          "base_uri": "https://localhost:8080/"
        },
        "id": "Bqm6CXeKsa7l",
        "outputId": "1a641329-6ffd-4d9c-bc35-11d8700b0f34"
      },
      "execution_count": 19,
      "outputs": [
        {
          "output_type": "stream",
          "name": "stdout",
          "text": [
            "{1, 2, 3}\n"
          ]
        }
      ]
    },
    {
      "cell_type": "code",
      "source": [
        "#Find the union of {1, 2, 3} and {3, 4, 5}\n",
        "a = {1, 2, 3}\n",
        "b = {3, 4, 5}\n",
        "print(a.union(b))\n"
      ],
      "metadata": {
        "colab": {
          "base_uri": "https://localhost:8080/"
        },
        "id": "HyFAWw6asfU3",
        "outputId": "9e7e16fb-73a0-4f4e-86f4-cec833ca1b82"
      },
      "execution_count": 20,
      "outputs": [
        {
          "output_type": "stream",
          "name": "stdout",
          "text": [
            "{1, 2, 3, 4, 5}\n"
          ]
        }
      ]
    },
    {
      "cell_type": "code",
      "source": [
        "# Find the intersection of {1, 2, 3} and {2, 3, 4}\n",
        "a = {1, 2, 3}\n",
        "b = {2, 3, 4}\n",
        "print(a.intersection(b))\n"
      ],
      "metadata": {
        "colab": {
          "base_uri": "https://localhost:8080/"
        },
        "id": "HsW1VUpusjvp",
        "outputId": "a03af472-a682-4755-9ae5-f808eb23722f"
      },
      "execution_count": 21,
      "outputs": [
        {
          "output_type": "stream",
          "name": "stdout",
          "text": [
            "{2, 3}\n"
          ]
        }
      ]
    },
    {
      "cell_type": "code",
      "source": [
        "#Create a dictionary with \"name\", \"age\", \"city\" and print it\n",
        "person = {\"name\": \"Om\", \"age\": 21, \"city\": \"Ahmedabad\"}\n",
        "print(person)\n"
      ],
      "metadata": {
        "colab": {
          "base_uri": "https://localhost:8080/"
        },
        "id": "sTcSdOTGsm6x",
        "outputId": "e9bee4ea-b7be-4ad5-d818-69d4ad3d1726"
      },
      "execution_count": 22,
      "outputs": [
        {
          "output_type": "stream",
          "name": "stdout",
          "text": [
            "{'name': 'Om', 'age': 21, 'city': 'Ahmedabad'}\n"
          ]
        }
      ]
    },
    {
      "cell_type": "code",
      "source": [
        "#Add \"country\": \"USA\" to {'name': 'John', 'age': 25}\n",
        "person = {'name': 'John', 'age': 25}\n",
        "person[\"country\"] = \"USA\"\n",
        "print(person)\n"
      ],
      "metadata": {
        "colab": {
          "base_uri": "https://localhost:8080/"
        },
        "id": "ft7cegrPsqKh",
        "outputId": "f403e017-854a-445d-c786-274cb9d18dc3"
      },
      "execution_count": 23,
      "outputs": [
        {
          "output_type": "stream",
          "name": "stdout",
          "text": [
            "{'name': 'John', 'age': 25, 'country': 'USA'}\n"
          ]
        }
      ]
    },
    {
      "cell_type": "code",
      "source": [
        "#Access the value of \"name\" in {'name': 'Alice', 'age': 30}\n",
        "person = {'name': 'Alice', 'age': 30}\n",
        "print(person[\"name\"])\n"
      ],
      "metadata": {
        "colab": {
          "base_uri": "https://localhost:8080/"
        },
        "id": "Pbz-RSI_suag",
        "outputId": "8d5e848c-7108-47a6-c306-403742662f91"
      },
      "execution_count": 24,
      "outputs": [
        {
          "output_type": "stream",
          "name": "stdout",
          "text": [
            "Alice\n"
          ]
        }
      ]
    },
    {
      "cell_type": "code",
      "source": [
        "#Remove the key \"age\" from {'name': 'Bob', 'age': 22, 'city': 'New York'}\n",
        "person = {'name': 'Bob', 'age': 22, 'city': 'New York'}\n",
        "person.pop(\"age\")\n",
        "print(person)\n",
        "\n"
      ],
      "metadata": {
        "colab": {
          "base_uri": "https://localhost:8080/"
        },
        "id": "1oiTOHnusxrv",
        "outputId": "9d6c4724-a85b-44ea-ea97-ad503b9a085a"
      },
      "execution_count": 25,
      "outputs": [
        {
          "output_type": "stream",
          "name": "stdout",
          "text": [
            "{'name': 'Bob', 'city': 'New York'}\n"
          ]
        }
      ]
    },
    {
      "cell_type": "code",
      "source": [
        "#Check if \"city\" exists in {'name': 'Alice', 'city': 'Paris'}\n",
        "person = {'name': 'Alice', 'city': 'Paris'}\n",
        "print(\"city\" in person)\n"
      ],
      "metadata": {
        "colab": {
          "base_uri": "https://localhost:8080/"
        },
        "id": "sGydZlEYs4Gg",
        "outputId": "06417250-8a87-4c6a-fd70-2f46785de4e8"
      },
      "execution_count": 26,
      "outputs": [
        {
          "output_type": "stream",
          "name": "stdout",
          "text": [
            "True\n"
          ]
        }
      ]
    },
    {
      "cell_type": "code",
      "source": [
        "#Create a list, tuple, and dictionary, and print them\n",
        "my_list = [1, 2, 3]\n",
        "my_tuple = (4, 5, 6)\n",
        "my_dict = {\"a\": 1, \"b\": 2}\n",
        "print(my_list, my_tuple, my_dict)\n"
      ],
      "metadata": {
        "colab": {
          "base_uri": "https://localhost:8080/"
        },
        "id": "AdEY_CBVs67Z",
        "outputId": "ff6d9d1f-52e8-46c4-cee5-b247acba43c8"
      },
      "execution_count": 27,
      "outputs": [
        {
          "output_type": "stream",
          "name": "stdout",
          "text": [
            "[1, 2, 3] (4, 5, 6) {'a': 1, 'b': 2}\n"
          ]
        }
      ]
    },
    {
      "cell_type": "code",
      "source": [
        "#Create a list of 5 random numbers (1–100), sort, and print\n",
        "import random\n",
        "nums = random.sample(range(1, 101), 5)\n",
        "nums.sort()\n",
        "print(nums)\n"
      ],
      "metadata": {
        "colab": {
          "base_uri": "https://localhost:8080/"
        },
        "id": "Y9btVunys9gU",
        "outputId": "991a8223-bf73-411d-8e92-f24143ac40d7"
      },
      "execution_count": 28,
      "outputs": [
        {
          "output_type": "stream",
          "name": "stdout",
          "text": [
            "[2, 8, 25, 26, 44]\n"
          ]
        }
      ]
    },
    {
      "cell_type": "code",
      "source": [
        "#Create a list with strings and print the element at index 3\n",
        "words = [\"apple\", \"banana\", \"cherry\", \"date\", \"kiwi\"]\n",
        "print(words[3])\n"
      ],
      "metadata": {
        "colab": {
          "base_uri": "https://localhost:8080/"
        },
        "id": "dMtqsVITtAoc",
        "outputId": "9034509b-db97-4666-a0b1-e6cf4dd5dff6"
      },
      "execution_count": 29,
      "outputs": [
        {
          "output_type": "stream",
          "name": "stdout",
          "text": [
            "date\n"
          ]
        }
      ]
    },
    {
      "cell_type": "code",
      "source": [
        "#Combine two dictionaries and print the result\n",
        "d1 = {\"a\": 1, \"b\": 2}\n",
        "d2 = {\"c\": 3, \"d\": 4}\n",
        "combined = {**d1, **d2}\n",
        "print(combined)\n"
      ],
      "metadata": {
        "colab": {
          "base_uri": "https://localhost:8080/"
        },
        "id": "yK69K3V-tFtp",
        "outputId": "c5194a81-4ef4-4bf9-b517-cd1840194f2d"
      },
      "execution_count": 30,
      "outputs": [
        {
          "output_type": "stream",
          "name": "stdout",
          "text": [
            "{'a': 1, 'b': 2, 'c': 3, 'd': 4}\n"
          ]
        }
      ]
    },
    {
      "cell_type": "code",
      "source": [
        "# Convert a list of strings into a set\n",
        "words = [\"apple\", \"banana\", \"apple\", \"mango\"]\n",
        "unique_words = set(words)\n",
        "print(unique_words)\n"
      ],
      "metadata": {
        "colab": {
          "base_uri": "https://localhost:8080/"
        },
        "id": "o82lU_KPtI6c",
        "outputId": "fac9596e-82a5-4209-b4cb-45a2199563f8"
      },
      "execution_count": 31,
      "outputs": [
        {
          "output_type": "stream",
          "name": "stdout",
          "text": [
            "{'apple', 'banana', 'mango'}\n"
          ]
        }
      ]
    }
  ]
}