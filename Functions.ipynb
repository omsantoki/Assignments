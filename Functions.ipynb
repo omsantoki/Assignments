{
  "nbformat": 4,
  "nbformat_minor": 0,
  "metadata": {
    "colab": {
      "provenance": []
    },
    "kernelspec": {
      "name": "python3",
      "display_name": "Python 3"
    },
    "language_info": {
      "name": "python"
    }
  },
  "cells": [
    {
      "cell_type": "code",
      "execution_count": null,
      "metadata": {
        "id": "Upxh24wN5C-C"
      },
      "outputs": [],
      "source": []
    },
    {
      "cell_type": "markdown",
      "source": [
        "1. Difference between a function and a method in Python\n",
        "  - Function: A block of code that performs a task and can be used independently.\n",
        "  - Method: A function that is associated with an object (usually called on objects like lists, strings, etc.).\n",
        "\n",
        "\n"
      ],
      "metadata": {
        "id": "oLn-7orX5GOD"
      }
    },
    {
      "cell_type": "code",
      "source": [
        "def greet():  # Function\n",
        "    print(\"Hello\")\n",
        "\n",
        "\"hello\".upper()  # Method\n"
      ],
      "metadata": {
        "colab": {
          "base_uri": "https://localhost:8080/",
          "height": 35
        },
        "id": "Z9GDkPBm5g2O",
        "outputId": "510b1df9-232a-4722-8905-7df40645dc7d"
      },
      "execution_count": null,
      "outputs": [
        {
          "output_type": "execute_result",
          "data": {
            "text/plain": [
              "'HELLO'"
            ],
            "application/vnd.google.colaboratory.intrinsic+json": {
              "type": "string"
            }
          },
          "metadata": {},
          "execution_count": 2
        }
      ]
    },
    {
      "cell_type": "markdown",
      "source": [
        "2. Function arguments and parameters\n",
        "  - Parameter: Variable listed in a function definition.\n",
        "  - Argument: Actual value passed when calling the function.\n"
      ],
      "metadata": {
        "id": "PbTKQmE05kN8"
      }
    },
    {
      "cell_type": "code",
      "source": [
        "def greet(name):  # name is a parameter\n",
        "    print(\"Hello\", name)\n",
        "\n",
        "greet(\"Om\")  # \"Om\" is an argument\n"
      ],
      "metadata": {
        "colab": {
          "base_uri": "https://localhost:8080/"
        },
        "id": "2aYv5FVF5oT9",
        "outputId": "912cbed2-34ef-4d20-f126-61d37e4b59cc"
      },
      "execution_count": null,
      "outputs": [
        {
          "output_type": "stream",
          "name": "stdout",
          "text": [
            "Hello Om\n"
          ]
        }
      ]
    },
    {
      "cell_type": "markdown",
      "source": [],
      "metadata": {
        "id": "qoRoP8dr51Bb"
      }
    },
    {
      "cell_type": "markdown",
      "source": [
        "3. Ways to define and call a function\n",
        "  - Define using def or lambda.\n",
        "  - Call using function name with parentheses and arguments.\n"
      ],
      "metadata": {
        "id": "t-Vktqh7525T"
      }
    },
    {
      "cell_type": "code",
      "source": [
        "def add(a, b):  # defining\n",
        "    return a + b\n",
        "\n",
        "print(add(2, 3))  # calling\n",
        "\n",
        "# Lambda\n",
        "multiply = lambda x, y: x * y\n",
        "print(multiply(4, 5))\n"
      ],
      "metadata": {
        "colab": {
          "base_uri": "https://localhost:8080/"
        },
        "id": "kJvs1fdQ538G",
        "outputId": "63907f00-75c9-4ba8-f625-57d1d8d269b2"
      },
      "execution_count": null,
      "outputs": [
        {
          "output_type": "stream",
          "name": "stdout",
          "text": [
            "5\n",
            "20\n"
          ]
        }
      ]
    },
    {
      "cell_type": "markdown",
      "source": [
        "4. Purpose of the return statement\n",
        "  - Sends back a result from a function to where it was called. Ends the function execution."
      ],
      "metadata": {
        "id": "IhgpXxkO56YE"
      }
    },
    {
      "cell_type": "code",
      "source": [
        "def square(x):\n",
        "    return x * x\n",
        "\n",
        "result = square(4)\n",
        "print(result)  # 16\n"
      ],
      "metadata": {
        "colab": {
          "base_uri": "https://localhost:8080/"
        },
        "id": "RFjJg15c5-IY",
        "outputId": "6c8495b4-be01-41b7-e2f0-94f22adba068"
      },
      "execution_count": null,
      "outputs": [
        {
          "output_type": "stream",
          "name": "stdout",
          "text": [
            "16\n"
          ]
        }
      ]
    },
    {
      "cell_type": "markdown",
      "source": [
        "5. Iterators vs Iterables\n",
        "  - Iterable: Something you can loop over (like list, tuple).\n",
        "  - Iterator: An object that keeps state and produces the next value when called with next()."
      ],
      "metadata": {
        "id": "5HJL0hJ76Cah"
      }
    },
    {
      "cell_type": "code",
      "source": [
        "nums = [1, 2, 3]  # iterable\n",
        "it = iter(nums)   # iterator\n",
        "print(next(it))   # 1\n"
      ],
      "metadata": {
        "colab": {
          "base_uri": "https://localhost:8080/"
        },
        "id": "g8rOayJa6Jfq",
        "outputId": "f8bf1420-b0ce-4bd6-892d-b2df59c92d71"
      },
      "execution_count": null,
      "outputs": [
        {
          "output_type": "stream",
          "name": "stdout",
          "text": [
            "1\n"
          ]
        }
      ]
    },
    {
      "cell_type": "markdown",
      "source": [
        "6. Generators in Python\n",
        "  - Functions that yield values one by one using yield instead of returning all at once.\n"
      ],
      "metadata": {
        "id": "Uy_4Z4eU6Pwu"
      }
    },
    {
      "cell_type": "code",
      "source": [
        "def countdown(n):\n",
        "    while n > 0:\n",
        "        yield n\n",
        "        n -= 1\n",
        "\n",
        "for num in countdown(3):\n",
        "    print(num)\n"
      ],
      "metadata": {
        "colab": {
          "base_uri": "https://localhost:8080/"
        },
        "id": "8POeDCgd6RhO",
        "outputId": "f42a9397-468d-4ba3-fa6d-a82e1a0d23d1"
      },
      "execution_count": null,
      "outputs": [
        {
          "output_type": "stream",
          "name": "stdout",
          "text": [
            "3\n",
            "2\n",
            "1\n"
          ]
        }
      ]
    },
    {
      "cell_type": "markdown",
      "source": [
        "7. Advantages of generators\n",
        "  - Memory efficient: Don’t store entire data in memory.\n",
        "  - Faster for large data: Yield one item at a time.\n",
        "  - Example: A generator to read large files line by line without loading the whole file."
      ],
      "metadata": {
        "id": "7BiOcbeR6WZi"
      }
    },
    {
      "cell_type": "markdown",
      "source": [
        "8. Lambda function\n",
        "  - A small anonymous function defined using lambda keyword.\n",
        "  - Used when a short function is needed temporarily."
      ],
      "metadata": {
        "id": "oLm0Y_SU6a0V"
      }
    },
    {
      "cell_type": "code",
      "source": [
        "add = lambda x, y: x + y\n",
        "print(add(3, 5))\n"
      ],
      "metadata": {
        "colab": {
          "base_uri": "https://localhost:8080/"
        },
        "id": "IDENsJbe6hAw",
        "outputId": "104b0e37-e180-4a56-c039-c5a71b122020"
      },
      "execution_count": null,
      "outputs": [
        {
          "output_type": "stream",
          "name": "stdout",
          "text": [
            "8\n"
          ]
        }
      ]
    },
    {
      "cell_type": "markdown",
      "source": [
        "9. Purpose and usage of map()\n",
        "  - Applies a function to all items in an iterable.\n"
      ],
      "metadata": {
        "id": "jnqEEAa96lAw"
      }
    },
    {
      "cell_type": "code",
      "source": [
        "nums = [1, 2, 3]\n",
        "squares = list(map(lambda x: x**2, nums))\n",
        "print(squares)  # [1, 4, 9]\n"
      ],
      "metadata": {
        "colab": {
          "base_uri": "https://localhost:8080/"
        },
        "id": "ZfROJHXk6npk",
        "outputId": "7d61d80e-813f-4fda-9ec0-c63c3647fd50"
      },
      "execution_count": null,
      "outputs": [
        {
          "output_type": "stream",
          "name": "stdout",
          "text": [
            "[1, 4, 9]\n"
          ]
        }
      ]
    },
    {
      "cell_type": "markdown",
      "source": [
        "10. Difference: map(), reduce(), filter()\n",
        "  - map(): Transforms items.\n",
        "  - filter(): Keeps items that pass a test.\n",
        "  - reduce(): Combines items into a single value (from functools)."
      ],
      "metadata": {
        "id": "hH6CeEAA6p2E"
      }
    },
    {
      "cell_type": "code",
      "source": [
        "from functools import reduce\n",
        "\n",
        "nums = [1, 2, 3, 4]\n",
        "\n",
        "# map\n",
        "print(list(map(lambda x: x*2, nums)))  # [2, 4, 6, 8]\n",
        "\n",
        "# filter\n",
        "print(list(filter(lambda x: x % 2 == 0, nums)))  # [2, 4]\n",
        "\n",
        "# reduce\n",
        "print(reduce(lambda x, y: x + y, nums))  # 10\n"
      ],
      "metadata": {
        "colab": {
          "base_uri": "https://localhost:8080/"
        },
        "id": "9KpWul-I6uYv",
        "outputId": "ad16b767-f1d4-4a7c-d234-e14aa5b32c5b"
      },
      "execution_count": null,
      "outputs": [
        {
          "output_type": "stream",
          "name": "stdout",
          "text": [
            "[2, 4, 6, 8]\n",
            "[2, 4]\n",
            "10\n"
          ]
        }
      ]
    },
    {
      "cell_type": "markdown",
      "source": [
        "11. Using pen & Paper write the internal mechanism for sum operation using reduce function on this given list:[47,11,42,13];\n",
        "(Attach paper image for this answer) in doc or colab notebook.\n",
        "\n",
        "give me its image solution\n",
        "https://drive.google.com/file/d/1HPK4AbIv7Aq8yPzDomlHtU1D4IBP7_Ts/view?usp=share_link"
      ],
      "metadata": {
        "id": "sMdJx8R2iJH_"
      }
    },
    {
      "cell_type": "code",
      "source": [
        "#que1\n",
        "def sum_even(numbers):\n",
        "    return sum(num for num in numbers if num % 2 == 0)\n",
        "\n",
        "print(sum_even([1, 2, 3, 4, 5, 6]))\n"
      ],
      "metadata": {
        "colab": {
          "base_uri": "https://localhost:8080/"
        },
        "id": "zu0BSuvR7ECM",
        "outputId": "30b3d55e-7a62-434e-eb78-9f0b0cc75754"
      },
      "execution_count": null,
      "outputs": [
        {
          "output_type": "stream",
          "name": "stdout",
          "text": [
            "12\n"
          ]
        }
      ]
    },
    {
      "cell_type": "code",
      "source": [
        "#que2\n",
        "def reverse_string(s):\n",
        "    return s[::-1]\n",
        "\n",
        "print(reverse_string(\"hello\"))\n"
      ],
      "metadata": {
        "colab": {
          "base_uri": "https://localhost:8080/"
        },
        "id": "RU6A6Sd77HGz",
        "outputId": "4b6ccabb-f93b-4942-9c62-5f29c481e7d9"
      },
      "execution_count": null,
      "outputs": [
        {
          "output_type": "stream",
          "name": "stdout",
          "text": [
            "olleh\n"
          ]
        }
      ]
    },
    {
      "cell_type": "code",
      "source": [
        "#que3\n",
        "def square_list(lst):\n",
        "    return [x ** 2 for x in lst]\n",
        "\n",
        "print(square_list([1, 2, 3]))\n"
      ],
      "metadata": {
        "colab": {
          "base_uri": "https://localhost:8080/"
        },
        "id": "vWUrWwSA7KRj",
        "outputId": "a4f7d826-047b-4a8e-c7d1-36445d4ae2b8"
      },
      "execution_count": null,
      "outputs": [
        {
          "output_type": "stream",
          "name": "stdout",
          "text": [
            "[1, 4, 9]\n"
          ]
        }
      ]
    },
    {
      "cell_type": "code",
      "source": [
        "#que4\n",
        "def is_prime(n):\n",
        "    if n < 2:\n",
        "        return False\n",
        "    for i in range(2, int(n**0.5) + 1):\n",
        "        if n % i == 0:\n",
        "            return False\n",
        "    return True\n",
        "\n",
        "primes = [i for i in range(1, 201) if is_prime(i)]\n",
        "print(primes)\n"
      ],
      "metadata": {
        "colab": {
          "base_uri": "https://localhost:8080/"
        },
        "id": "2tOP5ZAS7New",
        "outputId": "134754d3-5f83-475f-e450-19f33d27fc66"
      },
      "execution_count": null,
      "outputs": [
        {
          "output_type": "stream",
          "name": "stdout",
          "text": [
            "[2, 3, 5, 7, 11, 13, 17, 19, 23, 29, 31, 37, 41, 43, 47, 53, 59, 61, 67, 71, 73, 79, 83, 89, 97, 101, 103, 107, 109, 113, 127, 131, 137, 139, 149, 151, 157, 163, 167, 173, 179, 181, 191, 193, 197, 199]\n"
          ]
        }
      ]
    },
    {
      "cell_type": "code",
      "source": [
        "#que 5\n",
        "class Fibonacci:\n",
        "    def __init__(self, max_terms):\n",
        "        self.max_terms = max_terms\n",
        "        self.count = 0\n",
        "        self.a, self.b = 0, 1\n",
        "\n",
        "    def __iter__(self):\n",
        "        return self\n",
        "\n",
        "    def __next__(self):\n",
        "        if self.count >= self.max_terms:\n",
        "            raise StopIteration\n",
        "        value = self.a\n",
        "        self.a, self.b = self.b, self.a + self.b\n",
        "        self.count += 1\n",
        "        return value\n",
        "\n",
        "for num in Fibonacci(7):\n",
        "    print(num, end=\" \")\n"
      ],
      "metadata": {
        "colab": {
          "base_uri": "https://localhost:8080/"
        },
        "id": "GBvRcRT37Qlh",
        "outputId": "19e9e3d6-5a4c-44c0-abf2-0347554a8a28"
      },
      "execution_count": null,
      "outputs": [
        {
          "output_type": "stream",
          "name": "stdout",
          "text": [
            "0 1 1 2 3 5 8 "
          ]
        }
      ]
    },
    {
      "cell_type": "code",
      "source": [
        "#que 6\n",
        "def powers_of_two(max_exp):\n",
        "    for i in range(max_exp + 1):\n",
        "        yield 2 ** i\n",
        "\n",
        "for val in powers_of_two(4):\n",
        "    print(val)\n"
      ],
      "metadata": {
        "colab": {
          "base_uri": "https://localhost:8080/"
        },
        "id": "KpGzC3AC7UVv",
        "outputId": "cbbb1d07-cd13-4a7d-986c-a919709241c0"
      },
      "execution_count": null,
      "outputs": [
        {
          "output_type": "stream",
          "name": "stdout",
          "text": [
            "1\n",
            "2\n",
            "4\n",
            "8\n",
            "16\n"
          ]
        }
      ]
    },
    {
      "cell_type": "code",
      "source": [
        "#que 7\n",
        "def read_file_lines(filepath):\n",
        "    with open(filepath, 'r') as f:\n",
        "        for line in f:\n",
        "            yield line.strip()\n"
      ],
      "metadata": {
        "id": "MMOHkXL77Xjw"
      },
      "execution_count": null,
      "outputs": []
    },
    {
      "cell_type": "code",
      "source": [
        "#que 8\n",
        "data = [(1, 3), (4, 1), (5, 2)]\n",
        "sorted_data = sorted(data, key=lambda x: x[1])\n",
        "print(sorted_data)\n"
      ],
      "metadata": {
        "colab": {
          "base_uri": "https://localhost:8080/"
        },
        "id": "Z1-QEVvw7hqP",
        "outputId": "71ab9eef-b7da-4bca-f974-249686cfe80e"
      },
      "execution_count": null,
      "outputs": [
        {
          "output_type": "stream",
          "name": "stdout",
          "text": [
            "[(4, 1), (5, 2), (1, 3)]\n"
          ]
        }
      ]
    },
    {
      "cell_type": "code",
      "source": [
        "#que9\n",
        "celsius = [0, 20, 30, 40]\n",
        "fahrenheit = list(map(lambda c: (c * 9/5) + 32, celsius))\n",
        "print(fahrenheit)\n"
      ],
      "metadata": {
        "colab": {
          "base_uri": "https://localhost:8080/"
        },
        "id": "exYF5cXj7nnM",
        "outputId": "5173a0d3-ddc6-40b4-b32d-047ca9b01bac"
      },
      "execution_count": null,
      "outputs": [
        {
          "output_type": "stream",
          "name": "stdout",
          "text": [
            "[32.0, 68.0, 86.0, 104.0]\n"
          ]
        }
      ]
    },
    {
      "cell_type": "code",
      "source": [
        "#que 10\n",
        "def remove_vowels(s):\n",
        "    return ''.join(filter(lambda ch: ch.lower() not in 'aeiou', s))\n",
        "\n",
        "print(remove_vowels(\"Hello World\"))\n"
      ],
      "metadata": {
        "colab": {
          "base_uri": "https://localhost:8080/"
        },
        "id": "EuO7sQ4U7qf1",
        "outputId": "944e4eef-aa76-460b-c60d-72996f11b669"
      },
      "execution_count": null,
      "outputs": [
        {
          "output_type": "stream",
          "name": "stdout",
          "text": [
            "Hll Wrld\n"
          ]
        }
      ]
    },
    {
      "cell_type": "code",
      "source": [
        "#que11\n",
        "orders = [\n",
        "    [34587, \"Learning Python, Mark Lutz\", 4, 40.95],\n",
        "    [98762, \"Programming Python, Mark Lutz\", 5, 56.80],\n",
        "    [77226, \"Head First Python, Paul Barry\", 3, 32.95],\n",
        "    [88112, \"Einführung in Python3, Bernd Klein\", 3, 24.99]\n",
        "]\n",
        "\n",
        "result = list(map(lambda order: (order[0], order[2] * order[3] + 10 if order[2] * order[3] < 100 else order[2] * order[3]), orders))\n",
        "\n",
        "print(result)\n"
      ],
      "metadata": {
        "id": "oJ8dSby_75uL",
        "outputId": "90b0c95b-fae0-4ffd-d024-22842ad0454d",
        "colab": {
          "base_uri": "https://localhost:8080/"
        }
      },
      "execution_count": null,
      "outputs": [
        {
          "output_type": "stream",
          "name": "stdout",
          "text": [
            "[(34587, 163.8), (98762, 284.0), (77226, 108.85000000000001), (88112, 84.97)]\n"
          ]
        }
      ]
    },
    {
      "cell_type": "code",
      "source": [],
      "metadata": {
        "id": "Q88bcQjB76j4"
      },
      "execution_count": null,
      "outputs": []
    }
  ]
}