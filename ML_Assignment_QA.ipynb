{
 "cells": [
  {
   "cell_type": "markdown",
   "id": "7425279b",
   "metadata": {},
   "source": [
    "**1. What is a parameter?**\n",
    "\n",
    "A parameter is a configuration variable that is internal to the model and whose value can be estimated from data. For example, weights in a linear regression model are parameters."
   ]
  },
  {
   "cell_type": "markdown",
   "id": "f2895ca4",
   "metadata": {},
   "source": [
    "**2. What is correlation?**\n",
    "\n",
    "Correlation is a statistical measure that describes the strength and direction of a relationship between two variables. It ranges from -1 to +1."
   ]
  },
  {
   "cell_type": "markdown",
   "id": "e2e8a552",
   "metadata": {},
   "source": [
    "**3. What does negative correlation mean?**\n",
    "\n",
    "Negative correlation means that when one variable increases, the other decreases. For example, more study time might correlate with fewer errors on a test."
   ]
  },
  {
   "cell_type": "markdown",
   "id": "0de6dfe2",
   "metadata": {},
   "source": [
    "**4. Define Machine Learning. What are the main components in Machine Learning?**\n",
    "\n",
    "Machine Learning is a field of artificial intelligence that allows computers to learn from data without being explicitly programmed. The main components are:\n",
    "- Data\n",
    "- Model\n",
    "- Loss Function\n",
    "- Optimization Algorithm\n",
    "- Evaluation"
   ]
  },
  {
   "cell_type": "markdown",
   "id": "a2830d99",
   "metadata": {},
   "source": [
    "**5. How does loss value help in determining whether the model is good or not?**\n",
    "\n",
    "The loss value quantifies how far the model’s predictions are from the actual values. A smaller loss means the model is performing better."
   ]
  },
  {
   "cell_type": "markdown",
   "id": "98d44ae7",
   "metadata": {},
   "source": [
    "**6. What are continuous and categorical variables?**\n",
    "\n",
    "Continuous variables are numeric and can take an infinite number of values (e.g., height, weight). Categorical variables are qualitative and represent categories (e.g., gender, color)."
   ]
  },
  {
   "cell_type": "markdown",
   "id": "2bb9bf7b",
   "metadata": {},
   "source": [
    "**7. How do we handle categorical variables in Machine Learning? What are the common techniques?**\n",
    "\n",
    "We convert them into numeric values using techniques such as:\n",
    "- Label Encoding\n",
    "- One-Hot Encoding\n",
    "- Ordinal Encoding"
   ]
  },
  {
   "cell_type": "markdown",
   "id": "06013293",
   "metadata": {},
   "source": [
    "**8. What do you mean by training and testing a dataset?**\n",
    "\n",
    "Training involves using data to teach the model. Testing evaluates how well the model performs on unseen data."
   ]
  },
  {
   "cell_type": "markdown",
   "id": "b23c47e5",
   "metadata": {},
   "source": [
    "**9. What is sklearn.preprocessing?**\n",
    "\n",
    "It is a module in scikit-learn that provides functions for preprocessing data, such as scaling, normalization, and encoding."
   ]
  },
  {
   "cell_type": "markdown",
   "id": "689b80fd",
   "metadata": {},
   "source": [
    "**10. What is a Test set?**\n",
    "\n",
    "A test set is a portion of the dataset reserved for evaluating the final model performance after training."
   ]
  },
  {
   "cell_type": "markdown",
   "id": "665d4ec1",
   "metadata": {},
   "source": [
    "**11. How do we split data for model fitting (training and testing) in Python?**\n",
    "\n",
    "Using `train_test_split()` from `sklearn.model_selection`:\n",
    "```python\n",
    "from sklearn.model_selection import train_test_split\n",
    "X_train, X_test, y_train, y_test = train_test_split(X, y, test_size=0.2)\n",
    "```"
   ]
  },
  {
   "cell_type": "markdown",
   "id": "0c70ea24",
   "metadata": {},
   "source": [
    "**12. How do you approach a Machine Learning problem?**\n",
    "\n",
    "- Understand the problem\n",
    "- Collect and clean data\n",
    "- Perform Exploratory Data Analysis\n",
    "- Preprocess data\n",
    "- Choose a model\n",
    "- Train and evaluate the model\n",
    "- Tune hyperparameters\n",
    "- Deploy the model"
   ]
  },
  {
   "cell_type": "markdown",
   "id": "a972ec6a",
   "metadata": {},
   "source": [
    "**13. Why do we have to perform EDA before fitting a model to the data?**\n",
    "\n",
    "EDA helps understand data patterns, identify anomalies, visualize relationships, and decide on preprocessing steps."
   ]
  },
  {
   "cell_type": "markdown",
   "id": "bcca5c7a",
   "metadata": {},
   "source": [
    "**14. What is correlation?**\n",
    "\n",
    "Correlation is a statistical relationship between two variables."
   ]
  },
  {
   "cell_type": "markdown",
   "id": "50311893",
   "metadata": {},
   "source": [
    "**15. What does negative correlation mean?**\n",
    "\n",
    "It means one variable increases as the other decreases."
   ]
  },
  {
   "cell_type": "markdown",
   "id": "5739c7c1",
   "metadata": {},
   "source": [
    "**16. How can you find correlation between variables in Python?**\n",
    "\n",
    "Using pandas:\n",
    "```python\n",
    "import pandas as pd\n",
    "df.corr()\n",
    "```"
   ]
  },
  {
   "cell_type": "markdown",
   "id": "22ef5c1f",
   "metadata": {},
   "source": [
    "**17. What is causation? Explain difference between correlation and causation with an example.**\n",
    "\n",
    "Causation means one variable directly affects another. Correlation only shows that two variables are related.\n",
    "Example: Ice cream sales and drowning may be correlated due to hot weather, but one does not cause the other."
   ]
  },
  {
   "cell_type": "markdown",
   "id": "d28297a7",
   "metadata": {},
   "source": [
    "**18. What is an Optimizer? What are different types of optimizers? Explain each with an example.**\n",
    "\n",
    "An optimizer adjusts the parameters of a model to minimize the loss function.\n",
    "Examples include:\n",
    "- SGD (Stochastic Gradient Descent)\n",
    "- Adam (Adaptive Moment Estimation)\n",
    "- RMSProp\n",
    "Example:\n",
    "```python\n",
    "optimizer = torch.optim.Adam(model.parameters(), lr=0.001)\n",
    "```"
   ]
  },
  {
   "cell_type": "markdown",
   "id": "6c3d4ee6",
   "metadata": {},
   "source": [
    "**19. What is sklearn.linear_model?**\n",
    "\n",
    "It’s a module that provides linear models like `LinearRegression`, `Ridge`, and `Lasso` for regression tasks."
   ]
  },
  {
   "cell_type": "markdown",
   "id": "ec5bd6da",
   "metadata": {},
   "source": [
    "**20. What does model.fit() do? What arguments must be given?**\n",
    "\n",
    "`model.fit(X, y)` trains the model using the training data. Arguments: input data (X), target values (y)."
   ]
  },
  {
   "cell_type": "markdown",
   "id": "e31415c3",
   "metadata": {},
   "source": [
    "**21. What does model.predict() do? What arguments must be given?**\n",
    "\n",
    "`model.predict(X)` predicts target values using the trained model. Argument: input features (X)"
   ]
  },
  {
   "cell_type": "markdown",
   "id": "c7822b8e",
   "metadata": {},
   "source": [
    "**22. What are continuous and categorical variables?**\n",
    "\n",
    "- Continuous: numeric (e.g., salary, temperature)\n",
    "- Categorical: categories (e.g., country, brand)"
   ]
  },
  {
   "cell_type": "markdown",
   "id": "04ef4344",
   "metadata": {},
   "source": [
    "**23. What is feature scaling? How does it help in Machine Learning?**\n",
    "\n",
    "Feature scaling standardizes the range of features so they contribute equally to the model. Helps with faster convergence and better accuracy."
   ]
  },
  {
   "cell_type": "markdown",
   "id": "6fc8e4ff",
   "metadata": {},
   "source": [
    "**24. How do we perform scaling in Python?**\n",
    "\n",
    "Using `StandardScaler` or `MinMaxScaler`:\n",
    "```python\n",
    "from sklearn.preprocessing import StandardScaler\n",
    "scaler = StandardScaler()\n",
    "X_scaled = scaler.fit_transform(X)\n",
    "```"
   ]
  },
  {
   "cell_type": "markdown",
   "id": "8bbd786d",
   "metadata": {},
   "source": [
    "**25. Explain data encoding?**\n",
    "\n",
    "Encoding converts categorical variables into numeric format. Common methods:\n",
    "- Label Encoding\n",
    "- One-Hot Encoding\n",
    "Example using OneHotEncoder:\n",
    "```python\n",
    "from sklearn.preprocessing import OneHotEncoder\n",
    "encoder = OneHotEncoder()\n",
    "X_encoded = encoder.fit_transform(X)\n",
    "```"
   ]
  }
 ],
 "metadata": {},
 "nbformat": 4,
 "nbformat_minor": 5
}
