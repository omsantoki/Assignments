{
  "nbformat": 4,
  "nbformat_minor": 0,
  "metadata": {
    "colab": {
      "provenance": []
    },
    "kernelspec": {
      "name": "python3",
      "display_name": "Python 3"
    },
    "language_info": {
      "name": "python"
    }
  },
  "cells": [
    {
      "cell_type": "markdown",
      "source": [],
      "metadata": {
        "id": "isIGUn3rGGEj"
      }
    },
    {
      "cell_type": "markdown",
      "source": [
        "1. What is Python, and why is it popular?\n",
        "    - Python is a high-level, easy-to-learn programming language known for its clean syntax and wide range of applications like web dev, AI, and data science.\n",
        "\n",
        "2. What is an interpreter in Python?\n",
        "    - An interpreter runs Python code line by line, converting it into machine code during execution.\n",
        "\n",
        "3. What are pre-defined keywords in Python?\n",
        "    - Keywords are reserved words like if, for, while, etc., that have special meaning in Python and can't be used for other purposes.\n",
        "\n",
        "4. Can keywords be used as variable names?\n",
        "    - No, you can't use Python keywords as variable names—they're reserved by the language.\n",
        "\n",
        "5. What is mutability in Python?\n",
        "    - Mutability means whether an object can be changed after it’s created.\n",
        "\n",
        "6. Why are lists mutable, but tuples are immutable?\n",
        "    - Lists are designed to hold changing data, while tuples are meant to be fixed and protect data from being altered.\n",
        "\n",
        "7. What is the difference between “==” and “is” operators in Python?\n",
        "    - == checks if values are equal, while is checks if two variables point to the same object in memory.\n",
        "\n",
        "8. What are logical operators in Python?\n",
        "    - Logical operators like and, or, and not are used to combine or reverse boolean expressions.\n",
        "\n",
        "9. What is type casting in Python?\n",
        "    - Type casting is converting a variable from one data type to another, like from int to float.\n",
        "\n",
        "10. What is the difference between implicit and explicit type casting?\n",
        "    - Implicit casting is done automatically by Python, while explicit casting is done manually using functions like int(), str(), etc.\n",
        "\n",
        "11. What is the purpose of conditional statements in Python?\n",
        "    - Conditional statements let the program make decisions and execute different code blocks based on conditions.\n",
        "\n",
        "12. How does the elif statement work?\n",
        "    - elif checks another condition if the previous if condition was false, working like an \"else if\".\n",
        "\n",
        "13. What is the difference between for and while loops?\n",
        "    - A for loop runs for a set number of times, while a while loop runs as long as a condition is true.\n",
        "\n",
        "14. Describe a scenario where a while loop is more suitable than a for loop.\n",
        "    - Use a while loop when you don’t know how many times you'll loop—like waiting for user input to be correct."
      ],
      "metadata": {
        "id": "fCBCxlyWFnR6"
      }
    },
    {
      "cell_type": "code",
      "source": [
        "# Program 1: Print Hello, World!\n",
        "print(\"Hello, World!\")\n"
      ],
      "metadata": {
        "colab": {
          "base_uri": "https://localhost:8080/"
        },
        "id": "L_CkCb5EGr8d",
        "outputId": "878e993b-762b-46ef-c48c-d91966c81856"
      },
      "execution_count": 1,
      "outputs": [
        {
          "output_type": "stream",
          "name": "stdout",
          "text": [
            "Hello, World!\n"
          ]
        }
      ]
    },
    {
      "cell_type": "code",
      "source": [
        "# Program 2: Display name and age\n",
        "name = \"Om\"\n",
        "age = 21\n",
        "print(\"Name:\", name)\n",
        "print(\"Age:\", age)\n"
      ],
      "metadata": {
        "colab": {
          "base_uri": "https://localhost:8080/"
        },
        "id": "Yes9RWufGwSK",
        "outputId": "abef4875-6e15-4dd1-af9e-0beee22f7ccf"
      },
      "execution_count": 2,
      "outputs": [
        {
          "output_type": "stream",
          "name": "stdout",
          "text": [
            "Name: Om\n",
            "Age: 21\n"
          ]
        }
      ]
    },
    {
      "cell_type": "code",
      "source": [
        "# Program 3: Print Python keywords\n",
        "import keyword\n",
        "print(\"Python Keywords:\")\n",
        "print(keyword.kwlist)\n"
      ],
      "metadata": {
        "colab": {
          "base_uri": "https://localhost:8080/"
        },
        "id": "cPGZJM_hG6c3",
        "outputId": "74cb7b73-514a-4165-b061-6bd42b4d6410"
      },
      "execution_count": 3,
      "outputs": [
        {
          "output_type": "stream",
          "name": "stdout",
          "text": [
            "Python Keywords:\n",
            "['False', 'None', 'True', 'and', 'as', 'assert', 'async', 'await', 'break', 'class', 'continue', 'def', 'del', 'elif', 'else', 'except', 'finally', 'for', 'from', 'global', 'if', 'import', 'in', 'is', 'lambda', 'nonlocal', 'not', 'or', 'pass', 'raise', 'return', 'try', 'while', 'with', 'yield']\n"
          ]
        }
      ]
    },
    {
      "cell_type": "code",
      "source": [
        "# Program 4: Check if a word is a keyword\n",
        "import keyword\n",
        "\n",
        "word = input(\"Enter a word: \")\n",
        "if keyword.iskeyword(word):\n",
        "    print(f\"'{word}' is a Python keyword.\")\n",
        "else:\n",
        "    print(f\"'{word}' is NOT a Python keyword.\")\n"
      ],
      "metadata": {
        "colab": {
          "base_uri": "https://localhost:8080/"
        },
        "id": "708Nicd2G_DR",
        "outputId": "8bafc694-4d27-4a20-f1b7-fba9b8c22d8b"
      },
      "execution_count": 4,
      "outputs": [
        {
          "output_type": "stream",
          "name": "stdout",
          "text": [
            "Enter a word: om\n",
            "'om' is NOT a Python keyword.\n"
          ]
        }
      ]
    },
    {
      "cell_type": "code",
      "source": [
        "# Program 5: List vs Tuple mutability\n",
        "my_list = [1, 2, 3]\n",
        "my_tuple = (1, 2, 3)\n",
        "\n",
        "# List - mutable\n",
        "my_list[0] = 100\n",
        "print(\"Modified list:\", my_list)\n",
        "\n",
        "# Tuple - immutable\n",
        "try:\n",
        "    my_tuple[0] = 100\n",
        "except TypeError as e:\n",
        "    print(\"Tuple error:\", e)\n"
      ],
      "metadata": {
        "colab": {
          "base_uri": "https://localhost:8080/"
        },
        "id": "NLm46_kJHB24",
        "outputId": "7338edb8-95ad-4007-adc5-ef4a515a81f2"
      },
      "execution_count": 5,
      "outputs": [
        {
          "output_type": "stream",
          "name": "stdout",
          "text": [
            "Modified list: [100, 2, 3]\n",
            "Tuple error: 'tuple' object does not support item assignment\n"
          ]
        }
      ]
    },
    {
      "cell_type": "code",
      "source": [
        "# Program 6: Mutable vs Immutable\n",
        "\n",
        "def change_list(lst):\n",
        "    lst[0] = 'Changed'\n",
        "\n",
        "def change_int(x):\n",
        "    x = 10\n",
        "\n",
        "my_list = [1, 2, 3]\n",
        "my_int = 5\n",
        "\n",
        "change_list(my_list)\n",
        "change_int(my_int)\n",
        "\n",
        "print(\"List after function call:\", my_list)\n",
        "print(\"Integer after function call:\", my_int)\n"
      ],
      "metadata": {
        "colab": {
          "base_uri": "https://localhost:8080/"
        },
        "id": "-ovNmsUjHFZf",
        "outputId": "572e199c-1a23-4154-c57e-3c32c5e5b48b"
      },
      "execution_count": 6,
      "outputs": [
        {
          "output_type": "stream",
          "name": "stdout",
          "text": [
            "List after function call: ['Changed', 2, 3]\n",
            "Integer after function call: 5\n"
          ]
        }
      ]
    },
    {
      "cell_type": "code",
      "source": [
        "# Program 7: Basic arithmetic\n",
        "a = float(input(\"Enter first number: \"))\n",
        "b = float(input(\"Enter second number: \"))\n",
        "\n",
        "print(\"Addition:\", a + b)\n",
        "print(\"Subtraction:\", a - b)\n",
        "print(\"Multiplication:\", a * b)\n",
        "print(\"Division:\", a / b if b != 0 else \"Cannot divide by zero\")\n"
      ],
      "metadata": {
        "colab": {
          "base_uri": "https://localhost:8080/"
        },
        "id": "9QzTRZ3YHP6g",
        "outputId": "f06b9ed7-9754-484b-ba95-2d57d8a94ed0"
      },
      "execution_count": 7,
      "outputs": [
        {
          "output_type": "stream",
          "name": "stdout",
          "text": [
            "Enter first number: 2\n",
            "Enter second number: 3\n",
            "Addition: 5.0\n",
            "Subtraction: -1.0\n",
            "Multiplication: 6.0\n",
            "Division: 0.6666666666666666\n"
          ]
        }
      ]
    },
    {
      "cell_type": "code",
      "source": [
        "# Program 8: Logical operators\n",
        "a = 10\n",
        "b = 5\n",
        "print(\"a > 5 and b < 10:\", a > 5 and b < 10)\n",
        "print(\"a < 5 or b < 10:\", a < 5 or b < 10)\n",
        "print(\"not(a == b):\", not(a == b))\n"
      ],
      "metadata": {
        "colab": {
          "base_uri": "https://localhost:8080/"
        },
        "id": "UcZG6T4OHW6A",
        "outputId": "0373c608-0f66-4dcb-e7a6-6c9e070e2560"
      },
      "execution_count": 8,
      "outputs": [
        {
          "output_type": "stream",
          "name": "stdout",
          "text": [
            "a > 5 and b < 10: True\n",
            "a < 5 or b < 10: True\n",
            "not(a == b): True\n"
          ]
        }
      ]
    },
    {
      "cell_type": "code",
      "source": [
        "# Program 9: Type conversion\n",
        "s = input(\"Enter a number: \")\n",
        "print(\"As integer:\", int(s))\n",
        "print(\"As float:\", float(s))\n",
        "print(\"As boolean:\", bool(int(s)))\n"
      ],
      "metadata": {
        "colab": {
          "base_uri": "https://localhost:8080/"
        },
        "id": "ISEriRnIHe1o",
        "outputId": "293284ce-3f5d-4c1b-98cf-7aca16a46541"
      },
      "execution_count": 9,
      "outputs": [
        {
          "output_type": "stream",
          "name": "stdout",
          "text": [
            "Enter a number: 4\n",
            "As integer: 4\n",
            "As float: 4.0\n",
            "As boolean: True\n"
          ]
        }
      ]
    },
    {
      "cell_type": "code",
      "source": [
        "# Program 10: Type casting list\n",
        "string_list = ['1', '2', '3']\n",
        "int_list = [int(x) for x in string_list]\n",
        "print(\"Original:\", string_list)\n",
        "print(\"Converted to int:\", int_list)\n"
      ],
      "metadata": {
        "colab": {
          "base_uri": "https://localhost:8080/"
        },
        "id": "_jF0lcZXHh1J",
        "outputId": "0a13b504-01fd-4dae-c21d-ad72544e5fa9"
      },
      "execution_count": 10,
      "outputs": [
        {
          "output_type": "stream",
          "name": "stdout",
          "text": [
            "Original: ['1', '2', '3']\n",
            "Converted to int: [1, 2, 3]\n"
          ]
        }
      ]
    },
    {
      "cell_type": "code",
      "source": [
        "# Program 11: Number check\n",
        "num = float(input(\"Enter a number: \"))\n",
        "if num > 0:\n",
        "    print(\"Positive\")\n",
        "elif num < 0:\n",
        "    print(\"Negative\")\n",
        "else:\n",
        "    print(\"Zero\")\n"
      ],
      "metadata": {
        "colab": {
          "base_uri": "https://localhost:8080/"
        },
        "id": "H2FVNqMFHreg",
        "outputId": "e1d0b033-c815-423f-b95e-69c2a7f0ab93"
      },
      "execution_count": 11,
      "outputs": [
        {
          "output_type": "stream",
          "name": "stdout",
          "text": [
            "Enter a number: 5\n",
            "Positive\n"
          ]
        }
      ]
    },
    {
      "cell_type": "code",
      "source": [
        "# Program 12: Print 1 to 10\n",
        "for i in range(1, 11):\n",
        "    print(i, end=' ')\n"
      ],
      "metadata": {
        "colab": {
          "base_uri": "https://localhost:8080/"
        },
        "id": "l1vLRWlOHt6s",
        "outputId": "d19c0df0-a185-4027-ef75-ffbaf0c07226"
      },
      "execution_count": 12,
      "outputs": [
        {
          "output_type": "stream",
          "name": "stdout",
          "text": [
            "1 2 3 4 5 6 7 8 9 10 "
          ]
        }
      ]
    },
    {
      "cell_type": "code",
      "source": [
        "# Program 13: Sum of even numbers\n",
        "even_sum = sum(i for i in range(1, 51) if i % 2 == 0)\n",
        "print(\"Sum of even numbers from 1 to 50:\", even_sum)\n"
      ],
      "metadata": {
        "colab": {
          "base_uri": "https://localhost:8080/"
        },
        "id": "LeQUaULuHwkw",
        "outputId": "bedacbef-076a-4951-c06c-1116a8915490"
      },
      "execution_count": 13,
      "outputs": [
        {
          "output_type": "stream",
          "name": "stdout",
          "text": [
            "Sum of even numbers from 1 to 50: 650\n"
          ]
        }
      ]
    },
    {
      "cell_type": "code",
      "source": [
        "# Program 14: Reverse string\n",
        "s = input(\"Enter a string: \")\n",
        "rev = \"\"\n",
        "i = len(s) - 1\n",
        "while i >= 0:\n",
        "    rev += s[i]\n",
        "    i -= 1\n",
        "print(\"Reversed string:\", rev)\n"
      ],
      "metadata": {
        "colab": {
          "base_uri": "https://localhost:8080/"
        },
        "id": "QxYTNy-SH1Ht",
        "outputId": "fd48cd70-96d7-427d-d2dc-65511b0173ee"
      },
      "execution_count": 14,
      "outputs": [
        {
          "output_type": "stream",
          "name": "stdout",
          "text": [
            "Enter a string: ohmm\n",
            "Reversed string: mmho\n"
          ]
        }
      ]
    },
    {
      "cell_type": "code",
      "source": [
        "# Program 15: Factorial\n",
        "n = int(input(\"Enter a number: \"))\n",
        "fact = 1\n",
        "i = 1\n",
        "while i <= n:\n",
        "    fact *= i\n",
        "    i += 1\n",
        "print(f\"Factorial of {n} is\", fact)\n"
      ],
      "metadata": {
        "colab": {
          "base_uri": "https://localhost:8080/"
        },
        "id": "lXOhl1sXH5MM",
        "outputId": "24dae1a1-44c1-4246-c23f-d5a86bbf995d"
      },
      "execution_count": 16,
      "outputs": [
        {
          "output_type": "stream",
          "name": "stdout",
          "text": [
            "Enter a number: 5\n",
            "Factorial of 5 is 120\n"
          ]
        }
      ]
    }
  ]
}