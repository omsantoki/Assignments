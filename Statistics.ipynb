{
  "nbformat": 4,
  "nbformat_minor": 0,
  "metadata": {
    "colab": {
      "provenance": []
    },
    "kernelspec": {
      "name": "python3",
      "display_name": "Python 3"
    },
    "language_info": {
      "name": "python"
    }
  },
  "cells": [
    {
      "cell_type": "markdown",
      "source": [
        "1. What is statistics, and why is it important?  \n",
        "Statistics is the science of collecting, analyzing, and interpreting data to make informed decisions.\n",
        "\n",
        "2. What are the two main types of statistics?  \n",
        "The two main types are descriptive statistics and inferential statistics.\n",
        "\n",
        "3. What are descriptive statistics?  \n",
        "Descriptive statistics summarize and describe the main features of a dataset.\n",
        "\n",
        "4. What is inferential statistics?  \n",
        "Inferential statistics make predictions or generalizations about a population using sample data.\n",
        "\n",
        "5. What is sampling in statistics?  \n",
        "Sampling is the process of selecting a subset from a population to represent the whole.\n",
        "\n",
        "6. What are the different types of sampling methods?  \n",
        "They include random, stratified, cluster, systematic, and convenience sampling.\n",
        "\n",
        "7. What is the difference between random and non-random sampling?  \n",
        "Random sampling gives each unit an equal chance; non-random does not follow this rule.\n",
        "\n",
        "8. Define and give examples of qualitative and quantitative data.  \n",
        "Qualitative data: colors, gender; Quantitative data: height, weight.\n",
        "\n",
        "9. What are the different types of data in statistics?  \n",
        "Nominal, ordinal, interval, and ratio.\n",
        "\n",
        "10. Explain nominal, ordinal, interval, and ratio levels of measurement.  \n",
        "Nominal: categories; Ordinal: ordered; Interval: no true zero; Ratio: has true zero.\n",
        "\n",
        "11. What is the measure of central tendency?  \n",
        "It refers to values that represent the center of a dataset (mean, median, mode).\n",
        "\n",
        "12. Define mean, median, and mode.  \n",
        "Mean: average; Median: middle value; Mode: most frequent value.\n",
        "\n",
        "13. What is the significance of the measure of central tendency?  \n",
        "It provides a single value that describes the center of the data distribution.\n",
        "\n",
        "14. What is variance, and how is it calculated?  \n",
        "Variance is the average of squared differences from the mean.\n",
        "\n",
        "15. What is standard deviation, and why is it important?  \n",
        "Standard deviation measures the spread of data around the mean; lower means more consistent.\n",
        "\n",
        "16. Define and explain the term range in statistics.  \n",
        "Range is the difference between the highest and lowest values in a dataset.\n",
        "\n",
        "17. What is the difference between variance and standard deviation?  \n",
        "Variance is the squared deviation; standard deviation is its square root.\n",
        "\n",
        "18. What is skewness in a dataset?  \n",
        "Skewness tells whether data is symmetrically distributed or lopsided.\n",
        "\n",
        "19. What does it mean if a dataset is positively or negatively skewed?  \n",
        "Positive skew: tail on right; Negative skew: tail on left.\n",
        "\n",
        "20. Define and explain kurtosis.  \n",
        "Kurtosis measures the peak and tail heaviness of a distribution.\n",
        "\n",
        "21. What is the purpose of covariance?  \n",
        "Covariance shows the direction of the linear relationship between two variables.\n",
        "\n",
        "22. What does correlation measure in statistics?  \n",
        "Correlation measures both strength and direction of a linear relationship.\n",
        "\n",
        "23. What is the difference between covariance and correlation?  \n",
        "Covariance is unstandardized; correlation is scaled between -1 and 1.\n",
        "\n",
        "24. What are some real-world applications of statistics?  \n",
        "Used in healthcare, finance, sports, research, business, and policy-making.\n"
      ],
      "metadata": {
        "id": "yJi8Mj9kjcx5"
      }
    },
    {
      "cell_type": "code",
      "source": [
        "# 1. Calculate mean, median, mode of a dataset\n",
        "import pandas as pd\n",
        "import numpy as np\n",
        "from scipy import stats\n",
        "\n",
        "data = [12, 15, 13, 10, 18, 20, 21, 17, 14, 16]\n",
        "print(\"Mean:\", np.mean(data))\n",
        "print(\"Median:\", np.median(data))\n",
        "print(\"Mode:\", stats.mode(data, keepdims=True)[0][0])\n"
      ],
      "metadata": {
        "colab": {
          "base_uri": "https://localhost:8080/"
        },
        "id": "mrMaYoA0jrsl",
        "outputId": "b8e6dfb7-50fc-438f-822b-96295d5bcf7c"
      },
      "execution_count": 1,
      "outputs": [
        {
          "output_type": "stream",
          "name": "stdout",
          "text": [
            "Mean: 15.6\n",
            "Median: 15.5\n",
            "Mode: 10\n"
          ]
        }
      ]
    },
    {
      "cell_type": "code",
      "source": [
        "# 2. Variance and standard deviation\n",
        "print(\"Variance:\", np.var(data, ddof=1))  # sample variance\n",
        "print(\"Standard Deviation:\", np.std(data, ddof=1))\n"
      ],
      "metadata": {
        "colab": {
          "base_uri": "https://localhost:8080/"
        },
        "id": "uNc6tzFmjwhu",
        "outputId": "d6614015-b0ae-423c-ff56-fc4f6e9ca8a4"
      },
      "execution_count": 2,
      "outputs": [
        {
          "output_type": "stream",
          "name": "stdout",
          "text": [
            "Variance: 12.266666666666666\n",
            "Standard Deviation: 3.5023801430836525\n"
          ]
        }
      ]
    },
    {
      "cell_type": "code",
      "source": [
        "# 3. Classify data into nominal, ordinal, interval, ratio\n",
        "df = pd.DataFrame({\n",
        "    'Name': ['A', 'B', 'C'],            # Nominal\n",
        "    'Rank': [1, 2, 3],                  # Ordinal\n",
        "    'Temperature': [36.5, 37, 38],      # Interval\n",
        "    'Height': [150, 160, 170]           # Ratio\n",
        "})\n",
        "print(df)\n"
      ],
      "metadata": {
        "colab": {
          "base_uri": "https://localhost:8080/"
        },
        "id": "j0gZSqb_jzIf",
        "outputId": "d19a065b-84cd-4999-8d1f-0b820b9f5973"
      },
      "execution_count": 3,
      "outputs": [
        {
          "output_type": "stream",
          "name": "stdout",
          "text": [
            "  Name  Rank  Temperature  Height\n",
            "0    A     1         36.5     150\n",
            "1    B     2         37.0     160\n",
            "2    C     3         38.0     170\n"
          ]
        }
      ]
    },
    {
      "cell_type": "code",
      "source": [
        "# 4. Implement random & stratified sampling\n",
        "from sklearn.model_selection import train_test_split\n",
        "\n",
        "\n",
        "random_sample = df.sample(frac=0.5)\n",
        "\n",
        "\n",
        "stratified_sample = df.groupby('Rank', group_keys=False).apply(lambda x: x.sample(1))\n"
      ],
      "metadata": {
        "colab": {
          "base_uri": "https://localhost:8080/"
        },
        "id": "kWUkYIBLj1Fn",
        "outputId": "f66d4505-4034-4a0d-f1fb-112bcae37b25"
      },
      "execution_count": 4,
      "outputs": [
        {
          "output_type": "stream",
          "name": "stderr",
          "text": [
            "<ipython-input-4-93639c75f433>:8: DeprecationWarning: DataFrameGroupBy.apply operated on the grouping columns. This behavior is deprecated, and in a future version of pandas the grouping columns will be excluded from the operation. Either pass `include_groups=False` to exclude the groupings or explicitly select the grouping columns after groupby to silence this warning.\n",
            "  stratified_sample = df.groupby('Rank', group_keys=False).apply(lambda x: x.sample(1))\n"
          ]
        }
      ]
    },
    {
      "cell_type": "code",
      "source": [
        "# 5. Range of a dataset\n",
        "print(\"Range:\", max(data) - min(data))\n"
      ],
      "metadata": {
        "colab": {
          "base_uri": "https://localhost:8080/"
        },
        "id": "EZ8S471Cj5Zp",
        "outputId": "5203a16f-9b51-46b7-e73d-4071c0df3225"
      },
      "execution_count": 5,
      "outputs": [
        {
          "output_type": "stream",
          "name": "stdout",
          "text": [
            "Range: 11\n"
          ]
        }
      ]
    },
    {
      "cell_type": "code",
      "source": [
        "# 6. Histogram of dataset\n",
        "import matplotlib.pyplot as plt\n",
        "\n",
        "plt.hist(data, bins=5)\n",
        "plt.title(\"Histogram\")\n",
        "plt.xlabel(\"Value\")\n",
        "plt.ylabel(\"Frequency\")\n",
        "plt.show()\n"
      ],
      "metadata": {
        "colab": {
          "base_uri": "https://localhost:8080/",
          "height": 472
        },
        "id": "fsp60xtoj7R_",
        "outputId": "6f1472b0-d12f-4f69-8a88-505404a7aeda"
      },
      "execution_count": 6,
      "outputs": [
        {
          "output_type": "display_data",
          "data": {
            "text/plain": [
              "<Figure size 640x480 with 1 Axes>"
            ],
            "image/png": "[encoded data removed]"
          },
          "metadata": {}
        }
      ]
    },
    {
      "cell_type": "code",
      "source": [
        "# 7. Skewness and Kurtosis\n",
        "from scipy.stats import skew, kurtosis\n",
        "\n",
        "print(\"Skewness:\", skew(data))\n",
        "print(\"Kurtosis:\", kurtosis(data))\n"
      ],
      "metadata": {
        "colab": {
          "base_uri": "https://localhost:8080/"
        },
        "id": "xpR6jwXZkC-_",
        "outputId": "e33e8e2c-e8d0-418a-a6fe-ea5e7346aed2"
      },
      "execution_count": 7,
      "outputs": [
        {
          "output_type": "stream",
          "name": "stdout",
          "text": [
            "Skewness: 0.041219069263062645\n",
            "Kurtosis: -0.9767643352236917\n"
          ]
        }
      ]
    },
    {
      "cell_type": "code",
      "source": [
        "# 8. Positive and negative skew example\n",
        "positive_skew = [1, 2, 3, 4, 10]\n",
        "negative_skew = [10, 6, 4, 2, 1]\n",
        "print(\"Positive skew:\", skew(positive_skew))\n",
        "print(\"Negative skew:\", skew(negative_skew))\n"
      ],
      "metadata": {
        "colab": {
          "base_uri": "https://localhost:8080/"
        },
        "id": "GT-bGMq2kFHt",
        "outputId": "55399589-d11f-488d-c93c-236fb1e73075"
      },
      "execution_count": 8,
      "outputs": [
        {
          "output_type": "stream",
          "name": "stdout",
          "text": [
            "Positive skew: 1.1384199576606167\n",
            "Negative skew: 0.5844726562500002\n"
          ]
        }
      ]
    },
    {
      "cell_type": "code",
      "source": [
        "# 9. Covariance of two datasets\n",
        "x = [1, 2, 3, 4, 5]\n",
        "y = [2, 4, 6, 8, 10]\n",
        "print(\"Covariance:\", np.cov(x, y)[0][1])\n"
      ],
      "metadata": {
        "colab": {
          "base_uri": "https://localhost:8080/"
        },
        "id": "7Bfc2QKskIA6",
        "outputId": "40a5d90e-54bd-4e00-adb1-9954dc7c2426"
      },
      "execution_count": 9,
      "outputs": [
        {
          "output_type": "stream",
          "name": "stdout",
          "text": [
            "Covariance: 5.0\n"
          ]
        }
      ]
    },
    {
      "cell_type": "code",
      "source": [
        "# 10. Correlation coefficient between two datasets\n",
        "print(\"Correlation:\", np.corrcoef(x, y)[0][1])\n"
      ],
      "metadata": {
        "colab": {
          "base_uri": "https://localhost:8080/"
        },
        "id": "kRuXUWn3kJpR",
        "outputId": "7f48f9d8-e0b0-4378-fc2c-94776938d30e"
      },
      "execution_count": 10,
      "outputs": [
        {
          "output_type": "stream",
          "name": "stdout",
          "text": [
            "Correlation: 0.9999999999999999\n"
          ]
        }
      ]
    },
    {
      "cell_type": "code",
      "source": [
        "# 11. Scatter plot\n",
        "plt.scatter(x, y)\n",
        "plt.title(\"Scatter Plot\")\n",
        "plt.xlabel(\"X\")\n",
        "plt.ylabel(\"Y\")\n",
        "plt.show()\n"
      ],
      "metadata": {
        "colab": {
          "base_uri": "https://localhost:8080/",
          "height": 472
        },
        "id": "CiG_5dcskLSA",
        "outputId": "00b28fb4-2cbe-4628-b209-855ff2f84f7b"
      },
      "execution_count": 11,
      "outputs": [
        {
          "output_type": "display_data",
          "data": {
            "text/plain": [
              "<Figure size 640x480 with 1 Axes>"
            ],
            "image/png": "[encoded data removed]"
          },
          "metadata": {}
        }
      ]
    },
    {
      "cell_type": "code",
      "source": [
        "# 12. Random vs systematic sampling (illustration)\n",
        "population = list(range(1, 21))\n",
        "\n",
        "# Simple random\n",
        "random_sample = np.random.choice(population, 5, replace=False)\n",
        "print(\"Random sample:\", random_sample)\n",
        "\n",
        "# Systematic sampling\n",
        "k = 4  # step\n",
        "systematic_sample = population[::k]\n",
        "print(\"Systematic sample:\", systematic_sample)\n"
      ],
      "metadata": {
        "colab": {
          "base_uri": "https://localhost:8080/"
        },
        "id": "vjeuI0NokM35",
        "outputId": "09ef2e2e-face-45e2-8b78-808a43ece2f6"
      },
      "execution_count": 12,
      "outputs": [
        {
          "output_type": "stream",
          "name": "stdout",
          "text": [
            "Random sample: [ 1  3  6 20 13]\n",
            "Systematic sample: [1, 5, 9, 13, 17]\n"
          ]
        }
      ]
    },
    {
      "cell_type": "code",
      "source": [
        "# 13. Mean, Median, Mode of grouped data (approximate using pandas cut)\n",
        "grouped = pd.cut(data, bins=3)\n",
        "print(\"Grouped Mean:\", np.mean(data))\n",
        "print(\"Grouped Median:\", np.median(data))\n",
        "print(\"Grouped Mode:\", stats.mode(data, keepdims=True)[0][0])\n"
      ],
      "metadata": {
        "colab": {
          "base_uri": "https://localhost:8080/"
        },
        "id": "SFyWPxH9kO0P",
        "outputId": "5ae0be7e-e04a-4efe-b574-9ba48fcf9f45"
      },
      "execution_count": 13,
      "outputs": [
        {
          "output_type": "stream",
          "name": "stdout",
          "text": [
            "Grouped Mean: 15.6\n",
            "Grouped Median: 15.5\n",
            "Grouped Mode: 10\n"
          ]
        }
      ]
    },
    {
      "cell_type": "code",
      "source": [
        "# 14. Simulate dataset and calculate central tendency & dispersion\n",
        "sim_data = np.random.normal(50, 10, 1000)\n",
        "print(\"Mean:\", np.mean(sim_data))\n",
        "print(\"Std Dev:\", np.std(sim_data))\n"
      ],
      "metadata": {
        "colab": {
          "base_uri": "https://localhost:8080/"
        },
        "id": "H6BKaJPhkT2d",
        "outputId": "fb51fc59-eaa4-4b7b-b730-dee7a2b34ec6"
      },
      "execution_count": 14,
      "outputs": [
        {
          "output_type": "stream",
          "name": "stdout",
          "text": [
            "Mean: 49.94591772795906\n",
            "Std Dev: 10.196002173468655\n"
          ]
        }
      ]
    },
    {
      "cell_type": "code",
      "source": [
        "# 15. Use NumPy or pandas to summarize a dataset’s descriptive statistics\n",
        "import pandas as pd\n",
        "import numpy as np\n",
        "\n",
        "data = np.random.randint(10, 100, 20)\n",
        "df = pd.DataFrame(data, columns=[\"Marks\"])\n",
        "print(df.describe())\n"
      ],
      "metadata": {
        "colab": {
          "base_uri": "https://localhost:8080/"
        },
        "id": "_g6H09fWkZYD",
        "outputId": "2d5cf5fc-d26e-44b7-b5c5-07e9e3e2b613"
      },
      "execution_count": 15,
      "outputs": [
        {
          "output_type": "stream",
          "name": "stdout",
          "text": [
            "           Marks\n",
            "count  20.000000\n",
            "mean   43.200000\n",
            "std    27.435283\n",
            "min    10.000000\n",
            "25%    24.000000\n",
            "50%    35.500000\n",
            "75%    65.750000\n",
            "max    97.000000\n"
          ]
        }
      ]
    },
    {
      "cell_type": "code",
      "source": [
        "# 16. Plot a boxplot to understand the spread and identify outliers\n",
        "import matplotlib.pyplot as plt\n",
        "\n",
        "plt.boxplot(df[\"Marks\"])\n",
        "plt.title(\"Boxplot of Marks\")\n",
        "plt.ylabel(\"Marks\")\n",
        "plt.show()\n"
      ],
      "metadata": {
        "colab": {
          "base_uri": "https://localhost:8080/",
          "height": 452
        },
        "id": "y6OoRJEPkbsi",
        "outputId": "e70b6199-259c-45cd-e349-095867eefc22"
      },
      "execution_count": 16,
      "outputs": [
        {
          "output_type": "display_data",
          "data": {
            "text/plain": [
              "<Figure size 640x480 with 1 Axes>"
            ],
            "image/png": "[encoded data removed]"
          },
          "metadata": {}
        }
      ]
    },
    {
      "cell_type": "code",
      "source": [
        "# 17. Calculate the interquartile range (IQR) of a dataset\n",
        "Q1 = df[\"Marks\"].quantile(0.25)\n",
        "Q3 = df[\"Marks\"].quantile(0.75)\n",
        "IQR = Q3 - Q1\n",
        "print(\"Interquartile Range (IQR):\", IQR)\n"
      ],
      "metadata": {
        "colab": {
          "base_uri": "https://localhost:8080/"
        },
        "id": "xIYSvCjpkdb3",
        "outputId": "e33787af-8a9c-4e9a-88fa-2765c10a82b4"
      },
      "execution_count": 17,
      "outputs": [
        {
          "output_type": "stream",
          "name": "stdout",
          "text": [
            "Interquartile Range (IQR): 41.75\n"
          ]
        }
      ]
    },
    {
      "cell_type": "code",
      "source": [
        "# 18. Implement Z-score normalization and explain its significance\n",
        "from scipy.stats import zscore\n",
        "\n",
        "df[\"Z-score\"] = zscore(df[\"Marks\"])\n",
        "print(df.head())\n",
        "\n",
        "# Z-scores help standardize values by showing how many std deviations a point is from the mean.\n"
      ],
      "metadata": {
        "colab": {
          "base_uri": "https://localhost:8080/"
        },
        "id": "ZS0wYNTTkfmX",
        "outputId": "421dd0b6-e1f6-4f9f-b008-c0cca8d62f45"
      },
      "execution_count": 18,
      "outputs": [
        {
          "output_type": "stream",
          "name": "stdout",
          "text": [
            "   Marks   Z-score\n",
            "0     75  1.189203\n",
            "1     40 -0.119668\n",
            "2     24 -0.718009\n",
            "3     17 -0.979783\n",
            "4     43 -0.007479\n"
          ]
        }
      ]
    },
    {
      "cell_type": "code",
      "source": [
        "# 19. Compare two datasets using their standard deviations\n",
        "data1 = np.random.normal(50, 5, 100)\n",
        "data2 = np.random.normal(50, 15, 100)\n",
        "\n",
        "std1 = np.std(data1)\n",
        "std2 = np.std(data2)\n",
        "print(\"Standard Deviation of Data1:\", std1)\n",
        "print(\"Standard Deviation of Data2:\", std2)\n"
      ],
      "metadata": {
        "colab": {
          "base_uri": "https://localhost:8080/"
        },
        "id": "nmg15G5XkhS3",
        "outputId": "6a4f68bb-cbea-491c-9dac-da5c68237db3"
      },
      "execution_count": 19,
      "outputs": [
        {
          "output_type": "stream",
          "name": "stdout",
          "text": [
            "Standard Deviation of Data1: 4.307743041517857\n",
            "Standard Deviation of Data2: 14.732385226956046\n"
          ]
        }
      ]
    },
    {
      "cell_type": "code",
      "source": [
        "# 20. Visualize covariance using a heatmap\n",
        "import seaborn as sns\n",
        "\n",
        "df2 = pd.DataFrame({\n",
        "    'X': np.random.randint(1, 50, 20),\n",
        "    'Y': np.random.randint(1, 50, 20)\n",
        "})\n",
        "cov_matrix = df2.cov()\n",
        "sns.heatmap(cov_matrix, annot=True, cmap='coolwarm')\n",
        "plt.title(\"Covariance Heatmap\")\n",
        "plt.show()\n"
      ],
      "metadata": {
        "colab": {
          "base_uri": "https://localhost:8080/",
          "height": 452
        },
        "id": "Zh1V1UPBkjZR",
        "outputId": "80fc9a3a-a817-4878-86d2-1d452b8ecb38"
      },
      "execution_count": 20,
      "outputs": [
        {
          "output_type": "display_data",
          "data": {
            "text/plain": [
              "<Figure size 640x480 with 2 Axes>"
            ],
            "image/png": "[encoded data removed]"
          },
          "metadata": {}
        }
      ]
    },
    {
      "cell_type": "code",
      "source": [
        "# 21. Create a correlation matrix using seaborn\n",
        "corr_matrix = df2.corr()\n",
        "sns.heatmap(corr_matrix, annot=True, cmap='Blues')\n",
        "plt.title(\"Correlation Matrix\")\n",
        "plt.show()\n"
      ],
      "metadata": {
        "colab": {
          "base_uri": "https://localhost:8080/",
          "height": 452
        },
        "id": "6BwNyixVklot",
        "outputId": "efb6f545-ccd9-48e3-fd86-98bd24d42da9"
      },
      "execution_count": 21,
      "outputs": [
        {
          "output_type": "display_data",
          "data": {
            "text/plain": [
              "<Figure size 640x480 with 2 Axes>"
            ],
            "image/png": "[encoded data removed]"
          },
          "metadata": {}
        }
      ]
    },
    {
      "cell_type": "code",
      "source": [
        "# 22. Generate dataset & compute both variance and standard deviation\n",
        "dataset = np.random.randint(20, 80, 30)\n",
        "print(\"Variance:\", np.var(dataset, ddof=1))\n",
        "print(\"Standard Deviation:\", np.std(dataset, ddof=1))\n"
      ],
      "metadata": {
        "colab": {
          "base_uri": "https://localhost:8080/"
        },
        "id": "i0RR3FG9knrf",
        "outputId": "f8473d86-d489-4664-bae0-20a38cffc8fb"
      },
      "execution_count": 22,
      "outputs": [
        {
          "output_type": "stream",
          "name": "stdout",
          "text": [
            "Variance: 315.00689655172414\n",
            "Standard Deviation: 17.748433636569853\n"
          ]
        }
      ]
    },
    {
      "cell_type": "code",
      "source": [
        "# 23. Visualize skewness and kurtosis using matplotlib/seaborn\n",
        "from scipy.stats import kurtosis, skew\n",
        "\n",
        "sns.histplot(dataset, kde=True)\n",
        "plt.title(\"Distribution of Dataset\")\n",
        "plt.show()\n",
        "\n",
        "print(\"Skewness:\", skew(dataset))\n",
        "print(\"Kurtosis:\", kurtosis(dataset))\n"
      ],
      "metadata": {
        "id": "1Ha-TjNhkpOc",
        "outputId": "c8dd9080-ed08-49fe-bd7b-d1d20abcb02c",
        "colab": {
          "base_uri": "https://localhost:8080/",
          "height": 486
        }
      },
      "execution_count": 23,
      "outputs": [
        {
          "output_type": "display_data",
          "data": {
            "text/plain": [
              "<Figure size 640x480 with 1 Axes>"
            ],
            "image/png": "[encoded data removed]"
          },
          "metadata": {}
        },
        {
          "output_type": "stream",
          "name": "stdout",
          "text": [
            "Skewness: -0.1569398915374933\n",
            "Kurtosis: -1.2555423729857342\n"
          ]
        }
      ]
    },
    {
      "cell_type": "code",
      "source": [
        "# 24. Pearson and Spearman correlation coefficients\n",
        "from scipy.stats import pearsonr, spearmanr\n",
        "\n",
        "x = np.random.randint(10, 50, 30)\n",
        "y = np.random.randint(10, 50, 30)\n",
        "\n",
        "pearson_corr, _ = pearsonr(x, y)\n",
        "spearman_corr, _ = spearmanr(x, y)\n",
        "\n",
        "print(\"Pearson Correlation:\", pearson_corr)\n",
        "print(\"Spearman Correlation:\", spearman_corr)\n"
      ],
      "metadata": {
        "id": "Bw2E_qdSkrXs",
        "outputId": "935b2604-329c-4ac1-9732-8a7c31b39545",
        "colab": {
          "base_uri": "https://localhost:8080/"
        }
      },
      "execution_count": 24,
      "outputs": [
        {
          "output_type": "stream",
          "name": "stdout",
          "text": [
            "Pearson Correlation: -0.26948399777065785\n",
            "Spearman Correlation: -0.271865299633458\n"
          ]
        }
      ]
    }
  ]
}