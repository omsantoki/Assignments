{
  "nbformat": 4,
  "nbformat_minor": 0,
  "metadata": {
    "colab": {
      "provenance": []
    },
    "kernelspec": {
      "name": "python3",
      "display_name": "Python 3"
    },
    "language_info": {
      "name": "python"
    }
  },
  "cells": [
    {
      "cell_type": "markdown",
      "source": [
        "1. What is a random variable in probability theory?\n",
        "  - A random variable is a value that depends on the outcome of a random event, and we often simulate it using libraries like NumPy in Python.\n",
        "\n",
        "2. What are the types of random variables?\n",
        "  - There are two types: discrete (like dice rolls) and continuous (like height or weight).\n",
        "\n",
        "3. What is the difference between discrete and continuous distributions?\n",
        "  - Discrete distributions deal with countable outcomes, while continuous ones deal with measurable values over an interval.\n",
        "\n",
        "4. What are probability distribution functions (PDF)?\n",
        "  - PDFs describe the likelihood of a value for a continuous random variable, using libraries like `scipy.stats`.\n",
        "\n",
        "5. How do cumulative distribution functions (CDF) differ from probability      distribution functions (PDF)?\n",
        "  - CDF gives the probability of a value being less than or equal to a certain value, while PDF gives the density at a specific point.\n",
        "\n",
        "6. What is a discrete uniform distribution?\n",
        "  - It’s when all outcomes are equally likely, like rolling a fair die — you can simulate it using `random.choice()`.\n",
        "\n",
        "7. What are the key properties of a Bernoulli distribution?\n",
        "  - It has only two outcomes: success (1) and failure (0), used for yes/no events.\n",
        "\n",
        "8. What is the binomial distribution, and how is it used in probability?\n",
        "  - It models the number of successes in a fixed number of independent trials; in Python, use `scipy.stats.binom`.\n",
        "\n",
        "9. What is the Poisson distribution and where is it applied?\n",
        "  - It models the count of events happening in a fixed time/space interval; used for rare events, like server crashes.\n",
        "\n",
        "10. What is a continuous uniform distribution?\n",
        "  - All values within a range are equally likely; simulate it with `scipy.stats.uniform`.\n",
        "\n",
        "11. What are the characteristics of a normal distribution?\n",
        "  - It’s bell-shaped, symmetric around the mean, and fully described by its mean and standard deviation.\n",
        "\n",
        "12. What is the standard normal distribution, and why is it important?\n",
        "  - It’s a normal distribution with mean 0 and std dev 1, useful for comparing different datasets using z-scores.\n",
        "\n",
        "13. What is the Central Limit Theorem (CLT), and why is it critical in statistics?\n",
        "  - CLT says that averages of large samples follow a normal distribution, even if the population isn't normal.\n",
        "\n",
        "14. How does the Central Limit Theorem relate to the normal distribution?\n",
        "  - It allows us to apply normal-based inference methods to sample means from any distribution.\n",
        "\n",
        "15. What is the application of Z statistics in hypothesis testing?\n",
        "  - Z statistics test how far a sample is from the population mean, assuming known variance.\n",
        "\n",
        "16. How do you calculate a z-score, and what does it represent?\n",
        "  - Z = (x - mean) / std deviation; it shows how many standard deviations a value is from the mean.\n",
        "\n",
        "17. What are point estimates and interval estimates in statistics?\n",
        "  - A point estimate gives a single guess (like a sample mean), while an interval estimate gives a confidence range.\n",
        "\n",
        "18. What is the significance of confidence intervals in statistical analysis?\n",
        "  - They help estimate a population parameter with an associated level of confidence (like 95%).\n",
        "\n",
        "19. What is the relationship between a z-score and a confidence interval?\n",
        "  - Z-scores determine the margin of error used in building confidence intervals.\n",
        "\n",
        "20. How are Z-scores used to compare different distributions?\n",
        "  - They standardize different datasets so we can compare values from different scales.\n",
        "\n",
        "21. What are the assumptions for applying the Central Limit Theorem?\n",
        "  - Independent samples, large enough sample size (usually n > 30), and finite variance.\n",
        "\n",
        "22. What is the concept of expected value in a probability distribution?\n",
        "  - It’s the average outcome if the experiment is repeated many times; use `np.mean()` on simulated data.\n",
        "\n",
        "23. How does a probability distribution relate to the expected outcome of a random variable?\n",
        "  - The expected value is calculated using the distribution — it’s the weighted average of all possible outcomes.\n"
      ],
      "metadata": {
        "id": "WueMeCRpJRUd"
      }
    }
  ]
}