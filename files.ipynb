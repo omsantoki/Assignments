{
  "nbformat": 4,
  "nbformat_minor": 0,
  "metadata": {
    "colab": {
      "provenance": []
    },
    "kernelspec": {
      "name": "python3",
      "display_name": "Python 3"
    },
    "language_info": {
      "name": "python"
    }
  },
  "cells": [
    {
      "cell_type": "markdown",
      "source": [
        "\n",
        "\n",
        "1. What is the difference between interpreted and compiled languages?  \n",
        "   Interpreted languages like Python execute code line by line, while compiled languages like C convert the whole code to machine code before running.\n",
        "\n",
        "2. What is exception handling in Python?  \n",
        "   It’s a way to handle runtime errors using try, except, finally, and else blocks.\n",
        "\n",
        "3. What is the purpose of the finally block in exception handling?  \n",
        "   The finally block runs no matter what, allowing cleanup actions like closing files.\n",
        "\n",
        "4. What is logging in Python?  \n",
        "   Logging is used to track events during execution, making debugging and monitoring easier.\n",
        "\n",
        "5. What is the significance of the __del__ method in Python?  \n",
        "   It’s a destructor called when an object is deleted or goes out of scope, used to free up resources.\n",
        "\n",
        "6. What is the difference between import and from ... import in Python?  \n",
        "   import loads the whole module, while from ... import loads specific components from a module.\n",
        "\n",
        "7. How can you handle multiple exceptions in Python?  \n",
        "   Use multiple except blocks or combine exceptions using a tuple: except (TypeError, ValueError):.\n",
        "\n",
        "8. What is the purpose of the with statement when handling files in Python?  \n",
        "   It ensures files are properly closed after operations, even if exceptions occur.\n",
        "\n",
        "9. What is the difference between multithreading and multiprocessing?  \n",
        "   Multithreading runs multiple threads in a single process; multiprocessing runs separate processes, good for CPU-bound tasks.\n",
        "\n",
        "10. What are the advantages of using logging in a program?  \n",
        "   Logging helps track issues, errors, and flow of execution with different severity levels.\n",
        "\n",
        "11. What is memory management in Python?  \n",
        "   Python uses automatic memory management through reference counting and garbage collection.\n",
        "\n",
        "12. What are the basic steps involved in exception handling in Python?  \n",
        "   Use try to write risky code, except to handle errors, else for code if no error, and finally for cleanup.\n",
        "\n",
        "13. Why is memory management important in Python?  \n",
        "   It prevents memory leaks and optimizes performance by freeing unused memory.\n",
        "\n",
        "14. What is the role of try and except in exception handling?  \n",
        "   try wraps code that might cause an error; except handles the error gracefully.\n",
        "\n",
        "15. How does Python's garbage collection system work?  \n",
        "   Python uses reference counting and a cyclic garbage collector to free unused memory.\n",
        "\n",
        "16. What is the purpose of the else block in exception handling?  \n",
        "   It runs only if no exceptions occur, useful for code that should run after try if successful.\n",
        "\n",
        "17. What are the common logging levels in Python?  \n",
        "   DEBUG, INFO, WARNING, ERROR, and CRITICAL.\n",
        "\n",
        "18. What is the difference between os.fork() and multiprocessing in Python?  \n",
        "   os.fork() creates a child process on Unix, while multiprocessing is cross-platform and higher level.\n",
        "\n",
        "19. What is the importance of closing a file in Python?  \n",
        "   It ensures data is written and resources are released properly.\n",
        "\n",
        "20. What is the difference between file.read() and file.readline() in Python?  \n",
        "   read() reads the entire file; readline() reads one line at a time.\n",
        "\n",
        "21. What is the logging module in Python used for?  \n",
        "   To create logs for tracking events, errors, and application behavior.\n",
        "\n",
        "22. What is the os module in Python used for in file handling?  \n",
        "   The os module allows file/directory operations like create, delete, rename, and path handling.\n",
        "\n",
        "23. What are the challenges associated with memory management in Python?  \n",
        "   Circular references and memory leaks due to improper object handling.\n",
        "\n",
        "24. How do you raise an exception manually in Python?  \n",
        "   Use the raise keyword, e.g., raise ValueError(\"Invalid input\").\n",
        "\n",
        "25. Why is it important to use multithreading in certain applications?  \n",
        "   It improves performance for I/O-bound tasks like file and network operations.\n"
      ],
      "metadata": {
        "id": "HDyQGI1yRf9f"
      }
    },
    {
      "cell_type": "code",
      "source": [
        "with open(\"example.txt\", \"w\") as f:\n",
        "    f.write(\"Hello, world!\")"
      ],
      "metadata": {
        "id": "xfE5yduUSPgr"
      },
      "execution_count": 1,
      "outputs": []
    },
    {
      "cell_type": "code",
      "source": [
        "with open(\"example.txt\", \"r\") as f:\n",
        "    for line in f:\n",
        "        print(line.strip())"
      ],
      "metadata": {
        "colab": {
          "base_uri": "https://localhost:8080/"
        },
        "id": "tboCfLngSTkl",
        "outputId": "df313e04-6564-433d-9906-d5b518454f6d"
      },
      "execution_count": 2,
      "outputs": [
        {
          "output_type": "stream",
          "name": "stdout",
          "text": [
            "Hello, world!\n"
          ]
        }
      ]
    },
    {
      "cell_type": "code",
      "source": [
        "try:\n",
        "    with open(\"nonexistent.txt\", \"r\") as f:\n",
        "        print(f.read())\n",
        "except FileNotFoundError:\n",
        "    print(\"File not found.\")"
      ],
      "metadata": {
        "colab": {
          "base_uri": "https://localhost:8080/"
        },
        "id": "I8B1AmRNSW9U",
        "outputId": "b0d8e12d-1c19-43e0-cd3e-0e9933ef044e"
      },
      "execution_count": 3,
      "outputs": [
        {
          "output_type": "stream",
          "name": "stdout",
          "text": [
            "File not found.\n"
          ]
        }
      ]
    },
    {
      "cell_type": "code",
      "source": [
        "with open(\"example.txt\", \"r\") as source, open(\"copy.txt\", \"w\") as dest:\n",
        "    dest.write(source.read())"
      ],
      "metadata": {
        "id": "atQgQtbwSaNG"
      },
      "execution_count": 4,
      "outputs": []
    },
    {
      "cell_type": "code",
      "source": [
        "try:\n",
        "    result = 10 / 0\n",
        "except ZeroDivisionError:\n",
        "    print(\"Cannot divide by zero.\")\n"
      ],
      "metadata": {
        "colab": {
          "base_uri": "https://localhost:8080/"
        },
        "id": "UE-GxGtWScYU",
        "outputId": "c0b2beb4-2ac2-4c07-aa75-f1ead41ef055"
      },
      "execution_count": 5,
      "outputs": [
        {
          "output_type": "stream",
          "name": "stdout",
          "text": [
            "Cannot divide by zero.\n"
          ]
        }
      ]
    },
    {
      "cell_type": "code",
      "source": [
        "import logging\n",
        "logging.basicConfig(filename=\"error.log\", level=logging.ERROR)\n",
        "try:\n",
        "    x = 10 / 0\n",
        "except ZeroDivisionError as e:\n",
        "    logging.error(\"Division by zero occurred: %s\", e)"
      ],
      "metadata": {
        "colab": {
          "base_uri": "https://localhost:8080/"
        },
        "id": "l2fzsHs5SeTR",
        "outputId": "9f842287-3080-4e8e-c951-58d3a6bcb915"
      },
      "execution_count": 6,
      "outputs": [
        {
          "output_type": "stream",
          "name": "stderr",
          "text": [
            "ERROR:root:Division by zero occurred: division by zero\n"
          ]
        }
      ]
    },
    {
      "cell_type": "code",
      "source": [
        "logging.basicConfig(level=logging.DEBUG)\n",
        "logging.info(\"Info message\")\n",
        "logging.warning(\"Warning message\")\n",
        "logging.error(\"Error message\")"
      ],
      "metadata": {
        "colab": {
          "base_uri": "https://localhost:8080/"
        },
        "id": "3gd6INFSSgaP",
        "outputId": "a83c722b-9d59-4627-8edf-a062db27975e"
      },
      "execution_count": 7,
      "outputs": [
        {
          "output_type": "stream",
          "name": "stderr",
          "text": [
            "WARNING:root:Warning message\n",
            "ERROR:root:Error message\n"
          ]
        }
      ]
    },
    {
      "cell_type": "code",
      "source": [
        "try:\n",
        "    with open(\"missing.txt\", \"r\") as f:\n",
        "        content = f.read()\n",
        "except Exception as e:\n",
        "    print(f\"An error occurred: {e}\")\n"
      ],
      "metadata": {
        "colab": {
          "base_uri": "https://localhost:8080/"
        },
        "id": "0S4jFxoWSiI3",
        "outputId": "7d5535fc-dafa-4782-ce5f-23a701b333ab"
      },
      "execution_count": 8,
      "outputs": [
        {
          "output_type": "stream",
          "name": "stdout",
          "text": [
            "An error occurred: [Errno 2] No such file or directory: 'missing.txt'\n"
          ]
        }
      ]
    },
    {
      "cell_type": "code",
      "source": [
        "lines = []\n",
        "with open(\"example.txt\", \"r\") as f:\n",
        "    for line in f:\n",
        "        lines.append(line.strip())\n",
        "print(lines)"
      ],
      "metadata": {
        "colab": {
          "base_uri": "https://localhost:8080/"
        },
        "id": "WKCNrwOkSkKg",
        "outputId": "a7e36f2d-81f9-411e-c875-55144fce186e"
      },
      "execution_count": 9,
      "outputs": [
        {
          "output_type": "stream",
          "name": "stdout",
          "text": [
            "['Hello, world!']\n"
          ]
        }
      ]
    },
    {
      "cell_type": "code",
      "source": [
        "with open(\"example.txt\", \"a\") as f:\n",
        "    f.write(\"\\nAppended line\")"
      ],
      "metadata": {
        "id": "sUXnmszeSmXX"
      },
      "execution_count": 10,
      "outputs": []
    },
    {
      "cell_type": "code",
      "source": [
        "data = {\"name\": \"John\"}\n",
        "try:\n",
        "    print(data[\"age\"])\n",
        "except KeyError:\n",
        "    print(\"Key does not exist.\")"
      ],
      "metadata": {
        "colab": {
          "base_uri": "https://localhost:8080/"
        },
        "id": "4Ns-I-gKSoGX",
        "outputId": "8ccbbce8-3e9f-42bf-9246-b341685a415f"
      },
      "execution_count": 11,
      "outputs": [
        {
          "output_type": "stream",
          "name": "stdout",
          "text": [
            "Key does not exist.\n"
          ]
        }
      ]
    },
    {
      "cell_type": "code",
      "source": [
        "try:\n",
        "    a = 1 / 0\n",
        "except ZeroDivisionError:\n",
        "    print(\"Zero Division Error\")\n",
        "except ValueError:\n",
        "    print(\"Value Error\")"
      ],
      "metadata": {
        "colab": {
          "base_uri": "https://localhost:8080/"
        },
        "id": "N2pQl_QPSqgh",
        "outputId": "a7d3dff2-78a7-408a-f059-324d212a7fd4"
      },
      "execution_count": 12,
      "outputs": [
        {
          "output_type": "stream",
          "name": "stdout",
          "text": [
            "Zero Division Error\n"
          ]
        }
      ]
    },
    {
      "cell_type": "code",
      "source": [
        "import os\n",
        "print(os.path.exists(\"example.txt\"))"
      ],
      "metadata": {
        "colab": {
          "base_uri": "https://localhost:8080/"
        },
        "id": "y26gD4ZfStdK",
        "outputId": "4ba7cf4a-f3a0-479f-a72a-6c6d3f9de583"
      },
      "execution_count": 13,
      "outputs": [
        {
          "output_type": "stream",
          "name": "stdout",
          "text": [
            "True\n"
          ]
        }
      ]
    },
    {
      "cell_type": "code",
      "source": [
        "logging.basicConfig(filename=\"logfile.log\", level=logging.INFO)\n",
        "try:\n",
        "    x = 1 / 0\n",
        "except ZeroDivisionError as e:\n",
        "    logging.error(\"Error occurred: %s\", e)\n",
        "logging.info(\"This is an info message\")"
      ],
      "metadata": {
        "colab": {
          "base_uri": "https://localhost:8080/"
        },
        "id": "MGfFvB7LSvQJ",
        "outputId": "2d5d3a61-f51e-493c-c342-2b302f52fac0"
      },
      "execution_count": 14,
      "outputs": [
        {
          "output_type": "stream",
          "name": "stderr",
          "text": [
            "ERROR:root:Error occurred: division by zero\n"
          ]
        }
      ]
    },
    {
      "cell_type": "code",
      "source": [
        "with open(\"empty.txt\", \"w\") as f:\n",
        "    pass\n",
        "with open(\"empty.txt\", \"r\") as f:\n",
        "    content = f.read()\n",
        "    if not content:\n",
        "        print(\"File is empty\")\n",
        "    else:\n",
        "        print(content)"
      ],
      "metadata": {
        "colab": {
          "base_uri": "https://localhost:8080/"
        },
        "id": "vA3BYfniSxF5",
        "outputId": "5449724c-b489-4202-cb27-f9313f1be38d"
      },
      "execution_count": 15,
      "outputs": [
        {
          "output_type": "stream",
          "name": "stdout",
          "text": [
            "File is empty\n"
          ]
        }
      ]
    },
    {
      "cell_type": "code",
      "source": [
        "!pip install memory-profiler\n",
        "\n",
        "from memory_profiler import profile\n",
        "\n",
        "@profile\n",
        "def small_program():\n",
        "    data = [i for i in range(100000)]\n",
        "    return sum(data)\n",
        "small_program()"
      ],
      "metadata": {
        "colab": {
          "base_uri": "https://localhost:8080/"
        },
        "id": "vJlt4ffHS9O9",
        "outputId": "662e6553-5d90-42e4-a512-d9be1ffaa47d"
      },
      "execution_count": 21,
      "outputs": [
        {
          "output_type": "stream",
          "name": "stdout",
          "text": [
            "Requirement already satisfied: memory-profiler in /usr/local/lib/python3.11/dist-packages (0.61.0)\n",
            "Requirement already satisfied: psutil in /usr/local/lib/python3.11/dist-packages (from memory-profiler) (5.9.5)\n",
            "ERROR: Could not find file <ipython-input-21-bd8363e9a67c>\n",
            "NOTE: %mprun can only be used on functions defined in physical files, and not in the IPython environment.\n"
          ]
        },
        {
          "output_type": "execute_result",
          "data": {
            "text/plain": [
              "4999950000"
            ]
          },
          "metadata": {},
          "execution_count": 21
        }
      ]
    },
    {
      "cell_type": "code",
      "source": [
        "with open(\"numbers.txt\", \"w\") as f:\n",
        "    for i in range(1, 11):\n",
        "        f.write(f\"{i}\\n\")"
      ],
      "metadata": {
        "id": "FsaUjRwATLyA"
      },
      "execution_count": 22,
      "outputs": []
    },
    {
      "cell_type": "code",
      "source": [
        "from logging.handlers import RotatingFileHandler\n",
        "\n",
        "logger = logging.getLogger(\"RotatingLogger\")\n",
        "logger.setLevel(logging.INFO)\n",
        "handler = RotatingFileHandler(\"rotating.log\", maxBytes=1024*1024, backupCount=3)\n",
        "logger.addHandler(handler)\n",
        "logger.info(\"Rotating log entry\")"
      ],
      "metadata": {
        "colab": {
          "base_uri": "https://localhost:8080/"
        },
        "id": "KCWWjgomTNz2",
        "outputId": "c99e0174-7394-4974-86a8-628c55670f03"
      },
      "execution_count": 23,
      "outputs": [
        {
          "output_type": "stream",
          "name": "stderr",
          "text": [
            "INFO:RotatingLogger:Rotating log entry\n"
          ]
        }
      ]
    },
    {
      "cell_type": "code",
      "source": [
        "try:\n",
        "    lst = [1, 2, 3]\n",
        "    print(lst[5])\n",
        "except IndexError:\n",
        "    print(\"Index out of range\")\n",
        "\n",
        "try:\n",
        "    d = {\"a\": 1}\n",
        "    print(d[\"b\"])\n",
        "except KeyError:\n",
        "    print(\"Key not found\")"
      ],
      "metadata": {
        "colab": {
          "base_uri": "https://localhost:8080/"
        },
        "id": "ZJQui9_DTQQm",
        "outputId": "fad94065-fd23-425f-e677-0d9d134f7489"
      },
      "execution_count": 24,
      "outputs": [
        {
          "output_type": "stream",
          "name": "stdout",
          "text": [
            "Index out of range\n",
            "Key not found\n"
          ]
        }
      ]
    },
    {
      "cell_type": "code",
      "source": [
        "with open(\"example.txt\", \"r\") as f:\n",
        "    print(f.read())"
      ],
      "metadata": {
        "colab": {
          "base_uri": "https://localhost:8080/"
        },
        "id": "5eq6FsAWTSFP",
        "outputId": "c683b48d-704c-4ea3-fecc-e3b764f66bcf"
      },
      "execution_count": 25,
      "outputs": [
        {
          "output_type": "stream",
          "name": "stdout",
          "text": [
            "Hello, world!\n",
            "Appended line\n"
          ]
        }
      ]
    },
    {
      "cell_type": "code",
      "source": [
        "word = \"Hello\"\n",
        "count = 0\n",
        "with open(\"example.txt\", \"r\") as f:\n",
        "    for line in f:\n",
        "        count += line.count(word)\n",
        "print(f\"'{word}' occurred {count} times\")"
      ],
      "metadata": {
        "colab": {
          "base_uri": "https://localhost:8080/"
        },
        "id": "VfVzXUQvTUpD",
        "outputId": "70b298ee-708c-420d-c38d-234437f9af02"
      },
      "execution_count": 26,
      "outputs": [
        {
          "output_type": "stream",
          "name": "stdout",
          "text": [
            "'Hello' occurred 1 times\n"
          ]
        }
      ]
    },
    {
      "cell_type": "code",
      "source": [
        "if os.path.getsize(\"example.txt\") == 0:\n",
        "    print(\"File is empty\")\n",
        "else:\n",
        "    with open(\"example.txt\", \"r\") as f:\n",
        "        print(f.read())"
      ],
      "metadata": {
        "colab": {
          "base_uri": "https://localhost:8080/"
        },
        "id": "Jex9r8n7TWTo",
        "outputId": "32385957-50cd-485c-e0a4-494062168cdf"
      },
      "execution_count": 27,
      "outputs": [
        {
          "output_type": "stream",
          "name": "stdout",
          "text": [
            "Hello, world!\n",
            "Appended line\n"
          ]
        }
      ]
    },
    {
      "cell_type": "code",
      "source": [
        "logging.basicConfig(filename=\"error_handling.log\", level=logging.ERROR)\n",
        "try:\n",
        "    with open(\"nonexistent.txt\", \"r\") as f:\n",
        "        print(f.read())\n",
        "except FileNotFoundError as e:\n",
        "    logging.error(\"Failed to open file: %s\", e)"
      ],
      "metadata": {
        "colab": {
          "base_uri": "https://localhost:8080/"
        },
        "id": "VlU7hTFeTYBf",
        "outputId": "3c7d72f1-d9f2-4f4d-aeed-d07b97536a43"
      },
      "execution_count": 28,
      "outputs": [
        {
          "output_type": "stream",
          "name": "stderr",
          "text": [
            "ERROR:root:Failed to open file: [Errno 2] No such file or directory: 'nonexistent.txt'\n"
          ]
        }
      ]
    }
  ]
}