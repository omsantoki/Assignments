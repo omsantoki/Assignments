{
  "nbformat": 4,
  "nbformat_minor": 0,
  "metadata": {
    "colab": {
      "provenance": []
    },
    "kernelspec": {
      "name": "python3",
      "display_name": "Python 3"
    },
    "language_info": {
      "name": "python"
    }
  },
  "cells": [
    {
      "cell_type": "code",
      "execution_count": null,
      "metadata": {
        "id": "PJQn1-ZoxEIX"
      },
      "outputs": [],
      "source": []
    },
    {
      "cell_type": "markdown",
      "source": [
        "# Q1: What is hypothesis testing in statistics?\n",
        "Hypothesis testing is a way to make decisions using data, where we test an assumption about a population parameter.\n",
        "\n",
        "# Q2: What is the null hypothesis, and how does it differ from the alternative hypothesis?\n",
        "The null hypothesis assumes no effect or difference, while the alternative hypothesis claims there is an effect or difference.\n",
        "\n",
        "# Q3: What is the significance level in hypothesis testing, and why is it important?\n",
        "The significance level (alpha) is the probability of rejecting the null hypothesis when it's actually true, commonly set at 0.05.\n",
        "\n",
        "# Q4: What does a P-value represent in hypothesis testing?\n",
        "The P-value shows how likely the observed data would occur if the null hypothesis were true.\n",
        "\n",
        "# Q5: How do you interpret the P-value in hypothesis testing?\n",
        "A small P-value (typically < 0.05) suggests strong evidence against the null hypothesis.\n",
        "\n",
        "# Q6: What are Type 1 and Type 2 errors in hypothesis testing?\n",
        "Type 1 error is rejecting a true null hypothesis; Type 2 error is failing to reject a false null hypothesis.\n",
        "\n",
        "# Q7: What is the difference between a one-tailed and a two-tailed test in hypothesis testing?\n",
        "One-tailed tests check for a deviation in one direction, while two-tailed tests check for deviations in both directions.\n",
        "\n",
        "# Q8: What is the Z-test, and when is it used in hypothesis testing?\n",
        "A Z-test is used when the population standard deviation is known and the sample size is large.\n",
        "\n",
        "# Q9: How do you calculate the Z-score, and what does it represent in hypothesis testing?\n",
        "Z = (sample_mean - population_mean) / (std_dev/sqrt(n)); it shows how many std deviations the sample is from the population mean.\n",
        "\n",
        "# Q10: What is the T-distribution, and when should it be used instead of the normal distribution?\n",
        "The T-distribution is used when the sample size is small and population standard deviation is unknown.\n",
        "\n",
        "# Q11: What is the difference between a Z-test and a T-test?\n",
        "Z-test is for known population standard deviation, T-test is for unknown standard deviation.\n",
        "\n",
        "# Q12: What is the T-test, and how is it used in hypothesis testing?\n",
        "The T-test compares sample means when population standard deviation is unknown to determine if there’s a significant difference.\n",
        "\n",
        "# Q13: What is the relationship between Z-test and T-test in hypothesis testing?\n",
        "Both test means, but the T-test handles more uncertainty and is used with smaller samples.\n",
        "\n",
        "# Q14: What is a confidence interval, and how is it used to interpret statistical results?\n",
        "A confidence interval estimates a range where the true parameter likely falls, giving us a sense of accuracy.\n",
        "\n",
        "# Q15: What is the margin of error, and how does it affect the confidence interval?\n",
        "Margin of error shows the range of uncertainty; larger margins mean wider, less precise intervals.\n",
        "\n",
        "# Q16: How is Bayes' Theorem used in statistics, and what is its significance?\n",
        "Bayes’ Theorem updates the probability of a hypothesis as new data is observed, useful in decision-making.\n",
        "\n",
        "# Q17: What is the Chi-square distribution, and when is it used?\n",
        "It’s used in tests for independence or goodness-of-fit involving categorical data.\n",
        "\n",
        "# Q18: What is the Chi-square goodness of fit test, and how is it applied?\n",
        "It tests how well observed data match expected data under a specific distribution.\n",
        "\n",
        "# Q19: What is the F-distribution, and when is it used in hypothesis testing?\n",
        "The F-distribution is used to compare variances, commonly in ANOVA and F-tests.\n",
        "\n",
        "# Q20: What is an ANOVA test, and what are its assumptions?\n",
        "ANOVA checks if there are differences among group means; assumes normality, independence, and equal variances.\n",
        "\n",
        "# Q21: What are the different types of ANOVA tests?\n",
        "Types include one-way ANOVA (one factor) and two-way ANOVA (two factors, interaction effect).\n",
        "\n",
        "# Q22: What is the F-test, and how does it relate to hypothesis testing?\n",
        "The F-test compares variances between groups to support or reject equality of means in ANOVA.\n"
      ],
      "metadata": {
        "id": "i4mb9RKQxEqS"
      }
    },
    {
      "cell_type": "code",
      "source": [
        "from scipy import stats\n",
        "import numpy as np\n",
        "\n",
        "data = np.array([68, 70, 72, 65, 74, 69, 71, 73])\n",
        "pop_mean = 70\n",
        "z_stat, p_value = stats.ttest_1samp(data, pop_mean)\n",
        "print(\"Z-statistic:\", z_stat)\n",
        "print(\"P-value:\", p_value)\n",
        "# If p-value < 0.05, we reject the null hypothesis.\n"
      ],
      "metadata": {
        "id": "pGMPZP69xG55"
      },
      "execution_count": null,
      "outputs": []
    },
    {
      "cell_type": "code",
      "source": [
        "np.random.seed(42)\n",
        "sample = np.random.normal(loc=52, scale=5, size=100)\n",
        "t_stat, p_val = stats.ttest_1samp(sample, 50)\n",
        "print(\"T-statistic:\", t_stat)\n",
        "print(\"P-value:\", p_val)\n"
      ],
      "metadata": {
        "id": "7qYthsgPxHAs"
      },
      "execution_count": null,
      "outputs": []
    },
    {
      "cell_type": "code",
      "source": [
        "def one_sample_z_test(sample, pop_mean, pop_std):\n",
        "    z = (np.mean(sample) - pop_mean) / (pop_std / np.sqrt(len(sample)))\n",
        "    p = 2 * (1 - stats.norm.cdf(abs(z)))\n",
        "    return z, p\n",
        "\n",
        "sample_data = np.random.normal(100, 15, 50)\n",
        "z, p = one_sample_z_test(sample_data, 100, 15)\n",
        "print(\"Z-score:\", z, \"P-value:\", p)\n"
      ],
      "metadata": {
        "id": "caBWtSqPxHDG"
      },
      "execution_count": null,
      "outputs": []
    },
    {
      "cell_type": "code",
      "source": [
        "import matplotlib.pyplot as plt\n",
        "\n",
        "z_score = 2.2\n",
        "alpha = 0.05\n",
        "critical = stats.norm.ppf(1 - alpha/2)\n",
        "\n",
        "x = np.linspace(-4, 4, 1000)\n",
        "y = stats.norm.pdf(x)\n",
        "plt.plot(x, y)\n",
        "plt.axvline(x=critical, color='red', linestyle='--')\n",
        "plt.axvline(x=-critical, color='red', linestyle='--')\n",
        "plt.axvline(x=z_score, color='blue', label='Z-score')\n",
        "plt.title(\"Two-tailed Z-test\")\n",
        "plt.legend()\n",
        "plt.show()\n"
      ],
      "metadata": {
        "id": "jc-rDb-1xHFt"
      },
      "execution_count": null,
      "outputs": []
    },
    {
      "cell_type": "code",
      "source": [
        "def visualize_errors():\n",
        "    x = np.linspace(-4, 4, 1000)\n",
        "    y1 = stats.norm.pdf(x, 0, 1)  # Null\n",
        "    y2 = stats.norm.pdf(x, 1, 1)  # Alternative\n",
        "    plt.plot(x, y1, label='H0', color='blue')\n",
        "    plt.plot(x, y2, label='H1', color='green')\n",
        "    plt.fill_between(x, 0, y1, where=(x > 1.64), color='red', alpha=0.5, label='Type 1 Error')\n",
        "    plt.fill_between(x, 0, y2, where=(x < 1.64), color='orange', alpha=0.5, label='Type 2 Error')\n",
        "    plt.legend()\n",
        "    plt.title(\"Type 1 and Type 2 Errors\")\n",
        "    plt.show()\n",
        "\n",
        "visualize_errors()\n"
      ],
      "metadata": {
        "id": "LqMMyJwJxHHz"
      },
      "execution_count": null,
      "outputs": []
    },
    {
      "cell_type": "code",
      "source": [
        "group1 = np.random.normal(50, 5, 30)\n",
        "group2 = np.random.normal(52, 5, 30)\n",
        "t_stat, p_val = stats.ttest_ind(group1, group2)\n",
        "print(\"T-statistic:\", t_stat, \"P-value:\", p_val)\n"
      ],
      "metadata": {
        "id": "V2TRI9KXxHKf"
      },
      "execution_count": null,
      "outputs": []
    },
    {
      "cell_type": "code",
      "source": [
        "before = np.random.normal(60, 5, 30)\n",
        "after = before + np.random.normal(2, 2, 30)\n",
        "t_stat, p_val = stats.ttest_rel(before, after)\n",
        "print(\"T-statistic:\", t_stat, \"P-value:\", p_val)\n"
      ],
      "metadata": {
        "id": "B0NRvhYSxHNA"
      },
      "execution_count": null,
      "outputs": []
    },
    {
      "cell_type": "code",
      "source": [
        "sample = np.random.normal(100, 10, 30)\n",
        "pop_mean = 105\n",
        "\n",
        "# Z-test (using known std)\n",
        "z = (np.mean(sample) - pop_mean) / (10 / np.sqrt(len(sample)))\n",
        "z_p = 2 * (1 - stats.norm.cdf(abs(z)))\n",
        "\n",
        "# T-test (unknown std)\n",
        "t_stat, t_p = stats.ttest_1samp(sample, pop_mean)\n",
        "\n",
        "print(\"Z-test:\", z, z_p)\n",
        "print(\"T-test:\", t_stat, t_p)\n"
      ],
      "metadata": {
        "id": "gyenjn65xHPL"
      },
      "execution_count": null,
      "outputs": []
    },
    {
      "cell_type": "code",
      "source": [
        "def confidence_interval(data, confidence=0.95):\n",
        "    mean = np.mean(data)\n",
        "    sem = stats.sem(data)\n",
        "    margin = sem * stats.t.ppf((1 + confidence) / 2., len(data) - 1)\n",
        "    return mean - margin, mean + margin\n",
        "\n",
        "data = np.random.normal(100, 10, 50)\n",
        "ci = confidence_interval(data)\n",
        "print(\"95% Confidence Interval:\", ci)\n"
      ],
      "metadata": {
        "id": "suZ0W_VexHR8"
      },
      "execution_count": null,
      "outputs": []
    },
    {
      "cell_type": "code",
      "source": [
        "def margin_of_error(data, confidence=0.95):\n",
        "    se = stats.sem(data)\n",
        "    t = stats.t.ppf((1 + confidence) / 2., len(data)-1)\n",
        "    return t * se\n",
        "\n",
        "sample_data = np.random.normal(50, 10, 100)\n",
        "moe = margin_of_error(sample_data)\n",
        "print(\"Margin of Error:\", moe)\n"
      ],
      "metadata": {
        "id": "KSo33sTkxHUS"
      },
      "execution_count": null,
      "outputs": []
    },
    {
      "cell_type": "code",
      "source": [
        "def bayes(prior_A, prior_B, likelihood_A, likelihood_B):\n",
        "    evidence = likelihood_A * prior_A + likelihood_B * prior_B\n",
        "    posterior_A = (likelihood_A * prior_A) / evidence\n",
        "    return posterior_A\n",
        "\n",
        "# Example\n",
        "P_A = 0.01\n",
        "P_B = 0.99\n",
        "P_E_given_A = 0.9\n",
        "P_E_given_B = 0.2\n",
        "print(\"Posterior Probability of A:\", bayes(P_A, P_B, P_E_given_A, P_E_given_B))\n"
      ],
      "metadata": {
        "id": "ZNXQmVeUxHXK"
      },
      "execution_count": null,
      "outputs": []
    },
    {
      "cell_type": "code",
      "source": [
        "import pandas as pd\n",
        "table = pd.DataFrame([[30, 10], [20, 40]])\n",
        "chi2, p, dof, expected = stats.chi2_contingency(table)\n",
        "print(\"Chi-square statistic:\", chi2)\n",
        "print(\"P-value:\", p)\n"
      ],
      "metadata": {
        "id": "9-xrJ3LsxHZl"
      },
      "execution_count": null,
      "outputs": []
    },
    {
      "cell_type": "code",
      "source": [
        "observed = np.array([[20, 30], [50, 100]])\n",
        "chi2, p, dof, expected = stats.chi2_contingency(observed)\n",
        "print(\"Expected Frequencies:\\n\", expected)\n"
      ],
      "metadata": {
        "id": "ZmOZMkitxHb8"
      },
      "execution_count": null,
      "outputs": []
    },
    {
      "cell_type": "code",
      "source": [
        "observed = [20, 30, 50]\n",
        "expected = [25, 25, 50]\n",
        "chi2_stat, p_val = stats.chisquare(f_obs=observed, f_exp=expected)\n",
        "print(\"Chi-square:\", chi2_stat, \"P-value:\", p_val)\n"
      ],
      "metadata": {
        "id": "A_Vkwm_SxHet"
      },
      "execution_count": null,
      "outputs": []
    },
    {
      "cell_type": "code",
      "source": [
        "df = 3\n",
        "x = np.linspace(0, 20, 500)\n",
        "y = stats.chi2.pdf(x, df)\n",
        "plt.plot(x, y, label=f'df={df}')\n",
        "plt.title(\"Chi-square Distribution\")\n",
        "plt.xlabel(\"Value\")\n",
        "plt.ylabel(\"Density\")\n",
        "plt.legend()\n",
        "plt.show()\n"
      ],
      "metadata": {
        "id": "tBCqD2KFxHhU"
      },
      "execution_count": null,
      "outputs": []
    },
    {
      "cell_type": "code",
      "source": [
        "group1 = np.random.normal(20, 5, 30)\n",
        "group2 = np.random.normal(22, 8, 30)\n",
        "f_stat = np.var(group1, ddof=1) / np.var(group2, ddof=1)\n",
        "df1, df2 = len(group1)-1, len(group2)-1\n",
        "p_val = 1 - stats.f.cdf(f_stat, df1, df2)\n",
        "print(\"F-statistic:\", f_stat, \"P-value:\", p_val)\n"
      ],
      "metadata": {
        "id": "err63W8yxHj6"
      },
      "execution_count": null,
      "outputs": []
    },
    {
      "cell_type": "code",
      "source": [
        "group1 = np.random.normal(10, 2, 30)\n",
        "group2 = np.random.normal(15, 2, 30)\n",
        "group3 = np.random.normal(20, 2, 30)\n",
        "f_stat, p_val = stats.f_oneway(group1, group2, group3)\n",
        "print(\"F-statistic:\", f_stat, \"P-value:\", p_val)\n"
      ],
      "metadata": {
        "id": "5vodt1tsxHmx"
      },
      "execution_count": null,
      "outputs": []
    },
    {
      "cell_type": "code",
      "source": [
        "import seaborn as sns\n",
        "import pandas as pd\n",
        "\n",
        "df = pd.DataFrame({\n",
        "    'score': np.concatenate([group1, group2, group3]),\n",
        "    'group': ['A']*30 + ['B']*30 + ['C']*30\n",
        "})\n",
        "sns.boxplot(x='group', y='score', data=df)\n",
        "plt.title(\"One-Way ANOVA Boxplot\")\n",
        "plt.show()\n"
      ],
      "metadata": {
        "id": "X-ykdYPlxHpp"
      },
      "execution_count": null,
      "outputs": []
    },
    {
      "cell_type": "code",
      "source": [
        "from scipy.stats import shapiro, levene\n",
        "\n",
        "# Normality\n",
        "print(\"Shapiro Test p-values:\")\n",
        "print(\"Group1:\", shapiro(group1).pvalue)\n",
        "print(\"Group2:\", shapiro(group2).pvalue)\n",
        "print(\"Group3:\", shapiro(group3).pvalue)\n",
        "\n",
        "# Equal Variances\n",
        "print(\"Levene's Test p-value:\", levene(group1, group2, group3).pvalue)\n"
      ],
      "metadata": {
        "id": "AxNv2Yg_xHsF"
      },
      "execution_count": null,
      "outputs": []
    },
    {
      "cell_type": "code",
      "source": [
        "import statsmodels.api as sm\n",
        "from statsmodels.formula.api import ols\n",
        "\n",
        "df = pd.DataFrame({\n",
        "    'A': np.repeat(['Low', 'High'], 30),\n",
        "    'B': np.tile(['X', 'Y', 'Z'], 20),\n",
        "    'score': np.random.normal(10, 2, 60)\n",
        "})\n",
        "model = ols('score ~ C(A) + C(B) + C(A):C(B)', data=df).fit()\n",
        "anova_table = sm.stats.anova_lm(model, typ=2)\n",
        "print(anova_table)\n"
      ],
      "metadata": {
        "id": "tX097N0BxHus"
      },
      "execution_count": null,
      "outputs": []
    },
    {
      "cell_type": "code",
      "source": [
        "x = np.linspace(0, 5, 500)\n",
        "df1, df2 = 5, 10\n",
        "y = stats.f.pdf(x, df1, df2)\n",
        "plt.plot(x, y)\n",
        "plt.title(\"F-distribution\")\n",
        "plt.xlabel(\"F-value\")\n",
        "plt.ylabel(\"Density\")\n",
        "plt.grid()\n",
        "plt.show()\n"
      ],
      "metadata": {
        "id": "FZIvcifmx5TC"
      },
      "execution_count": null,
      "outputs": []
    },
    {
      "cell_type": "code",
      "source": [
        "group1 = np.random.normal(50, 5, 20)\n",
        "group2 = np.random.normal(55, 5, 20)\n",
        "group3 = np.random.normal(60, 5, 20)\n",
        "df = pd.DataFrame({\n",
        "    'score': np.concatenate([group1, group2, group3]),\n",
        "    'group': ['G1']*20 + ['G2']*20 + ['G3']*20\n",
        "})\n",
        "sns.boxplot(x='group', y='score', data=df)\n",
        "plt.title(\"Group Comparison - One-Way ANOVA\")\n",
        "plt.show()\n"
      ],
      "metadata": {
        "id": "Lf_O7DQBx5Vq"
      },
      "execution_count": null,
      "outputs": []
    },
    {
      "cell_type": "code",
      "source": [
        "data = np.random.normal(100, 15, 100)\n",
        "t_stat, p_val = stats.ttest_1samp(data, 100)\n",
        "print(\"T-statistic:\", t_stat, \"P-value:\", p_val)\n"
      ],
      "metadata": {
        "id": "GEPT-IJAx5aj"
      },
      "execution_count": null,
      "outputs": []
    },
    {
      "cell_type": "code",
      "source": [
        "data = np.random.normal(50, 5, 30)\n",
        "n = len(data)\n",
        "sample_var = np.var(data, ddof=1)\n",
        "hypo_var = 25  # hypothesized variance\n",
        "chi2_stat = (n - 1) * sample_var / hypo_var\n",
        "p_val = 1 - stats.chi2.cdf(chi2_stat, df=n-1)\n",
        "print(\"Chi2 statistic:\", chi2_stat, \"P-value:\", p_val)\n"
      ],
      "metadata": {
        "id": "vHhm6PfAx5hb"
      },
      "execution_count": null,
      "outputs": []
    },
    {
      "cell_type": "code",
      "source": [
        "from statsmodels.stats.proportion import proportions_ztest\n",
        "\n",
        "success = [60, 50]\n",
        "nobs = [100, 100]\n",
        "z_stat, p_val = proportions_ztest(success, nobs)\n",
        "print(\"Z-statistic:\", z_stat, \"P-value:\", p_val)\n"
      ],
      "metadata": {
        "id": "Tbl4143vx5od"
      },
      "execution_count": null,
      "outputs": []
    },
    {
      "cell_type": "code",
      "source": [
        "sample1 = np.random.normal(10, 3, 30)\n",
        "sample2 = np.random.normal(10, 5, 30)\n",
        "f = np.var(sample1, ddof=1) / np.var(sample2, ddof=1)\n",
        "df1, df2 = len(sample1)-1, len(sample2)-1\n",
        "p = 1 - stats.f.cdf(f, df1, df2)\n",
        "print(\"F-statistic:\", f, \"P-value:\", p)\n"
      ],
      "metadata": {
        "id": "pLvGjeBdx5vE"
      },
      "execution_count": null,
      "outputs": []
    },
    {
      "cell_type": "code",
      "source": [
        "observed = np.random.randint(15, 25, 5)\n",
        "expected = [20]*5\n",
        "chi2, p = stats.chisquare(observed, f_exp=expected)\n",
        "print(\"Chi-square:\", chi2, \"P-value:\", p)\n"
      ],
      "metadata": {
        "id": "MGSKZVLSx51t"
      },
      "execution_count": null,
      "outputs": []
    },
    {
      "cell_type": "code",
      "source": [],
      "metadata": {
        "id": "ntpb-jLJx58c"
      },
      "execution_count": null,
      "outputs": []
    }
  ]
}